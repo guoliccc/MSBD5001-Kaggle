{
  "nbformat": 4,
  "nbformat_minor": 0,
  "metadata": {
    "colab": {
      "name": "kaggle.ipynb",
      "provenance": [],
      "toc_visible": true
    },
    "kernelspec": {
      "name": "python3",
      "display_name": "Python 3"
    }
  },
  "cells": [
    {
      "cell_type": "markdown",
      "metadata": {
        "id": "Em2DbmvgE1gy"
      },
      "source": [
        "#import&read"
      ]
    },
    {
      "cell_type": "code",
      "metadata": {
        "colab": {
          "base_uri": "https://localhost:8080/"
        },
        "id": "xVTSWOP0vQFf",
        "outputId": "f5192e36-b63c-4f1d-e9ea-212995df954c"
      },
      "source": [
        "from google.colab import drive\n",
        "drive.mount('/content/drive')"
      ],
      "execution_count": 7,
      "outputs": [
        {
          "output_type": "stream",
          "text": [
            "Drive already mounted at /content/drive; to attempt to forcibly remount, call drive.mount(\"/content/drive\", force_remount=True).\n"
          ],
          "name": "stdout"
        }
      ]
    },
    {
      "cell_type": "code",
      "metadata": {
        "id": "ATvD5BPkvTfP"
      },
      "source": [
        "import numpy as np\n",
        "import pandas as pd\n",
        "from matplotlib import pyplot as plt\n",
        "\n",
        "from sklearn.model_selection import train_test_split\n",
        "from sklearn.model_selection import GridSearchCV\n",
        "from sklearn.ensemble import RandomForestRegressor\n",
        "from xgboost import XGBRegressor \n",
        "from sklearn.model_selection import cross_val_score\n",
        "from sklearn.model_selection import TimeSeriesSplit\n",
        "from sklearn.metrics import mean_squared_error"
      ],
      "execution_count": 145,
      "outputs": []
    },
    {
      "cell_type": "code",
      "metadata": {
        "id": "gFfbTq0Yvcua"
      },
      "source": [
        "df_train = pd.read_csv('/content/drive/MyDrive/Colab Notebooks/5001/msbd5001-fall2020/train.csv', header = 0)\n",
        "df_test = pd.read_csv('/content/drive/MyDrive/Colab Notebooks/5001/msbd5001-fall2020/test.csv', header = 0)\n",
        "df_sample = pd.read_csv('/content/drive/MyDrive/Colab Notebooks/5001/msbd5001-fall2020/sampleSubmission.csv', header = 0)"
      ],
      "execution_count": 222,
      "outputs": []
    },
    {
      "cell_type": "code",
      "metadata": {
        "colab": {
          "base_uri": "https://localhost:8080/",
          "height": 1000
        },
        "id": "EhRpcwq1chuQ",
        "outputId": "44dcd8a9-eaef-4660-9c2e-ce256c6f12a3"
      },
      "source": [
        "df_train.date =pd.to_datetime(df_train.date, dayfirst=True)\n",
        "df_train.head(50)"
      ],
      "execution_count": 223,
      "outputs": [
        {
          "output_type": "execute_result",
          "data": {
            "text/html": [
              "<div>\n",
              "<style scoped>\n",
              "    .dataframe tbody tr th:only-of-type {\n",
              "        vertical-align: middle;\n",
              "    }\n",
              "\n",
              "    .dataframe tbody tr th {\n",
              "        vertical-align: top;\n",
              "    }\n",
              "\n",
              "    .dataframe thead th {\n",
              "        text-align: right;\n",
              "    }\n",
              "</style>\n",
              "<table border=\"1\" class=\"dataframe\">\n",
              "  <thead>\n",
              "    <tr style=\"text-align: right;\">\n",
              "      <th></th>\n",
              "      <th>id</th>\n",
              "      <th>date</th>\n",
              "      <th>speed</th>\n",
              "    </tr>\n",
              "  </thead>\n",
              "  <tbody>\n",
              "    <tr>\n",
              "      <th>0</th>\n",
              "      <td>0</td>\n",
              "      <td>2017-01-01 00:00:00</td>\n",
              "      <td>43.002930</td>\n",
              "    </tr>\n",
              "    <tr>\n",
              "      <th>1</th>\n",
              "      <td>1</td>\n",
              "      <td>2017-01-01 01:00:00</td>\n",
              "      <td>46.118696</td>\n",
              "    </tr>\n",
              "    <tr>\n",
              "      <th>2</th>\n",
              "      <td>2</td>\n",
              "      <td>2017-01-01 02:00:00</td>\n",
              "      <td>44.294158</td>\n",
              "    </tr>\n",
              "    <tr>\n",
              "      <th>3</th>\n",
              "      <td>3</td>\n",
              "      <td>2017-01-01 03:00:00</td>\n",
              "      <td>41.067468</td>\n",
              "    </tr>\n",
              "    <tr>\n",
              "      <th>4</th>\n",
              "      <td>4</td>\n",
              "      <td>2017-01-01 04:00:00</td>\n",
              "      <td>46.448653</td>\n",
              "    </tr>\n",
              "    <tr>\n",
              "      <th>5</th>\n",
              "      <td>5</td>\n",
              "      <td>2017-01-01 05:00:00</td>\n",
              "      <td>46.797766</td>\n",
              "    </tr>\n",
              "    <tr>\n",
              "      <th>6</th>\n",
              "      <td>6</td>\n",
              "      <td>2017-01-01 06:00:00</td>\n",
              "      <td>44.404925</td>\n",
              "    </tr>\n",
              "    <tr>\n",
              "      <th>7</th>\n",
              "      <td>7</td>\n",
              "      <td>2017-01-01 07:00:00</td>\n",
              "      <td>45.255897</td>\n",
              "    </tr>\n",
              "    <tr>\n",
              "      <th>8</th>\n",
              "      <td>8</td>\n",
              "      <td>2017-01-01 08:00:00</td>\n",
              "      <td>45.680859</td>\n",
              "    </tr>\n",
              "    <tr>\n",
              "      <th>9</th>\n",
              "      <td>9</td>\n",
              "      <td>2017-01-01 09:00:00</td>\n",
              "      <td>48.435676</td>\n",
              "    </tr>\n",
              "    <tr>\n",
              "      <th>10</th>\n",
              "      <td>10</td>\n",
              "      <td>2017-01-01 10:00:00</td>\n",
              "      <td>49.457054</td>\n",
              "    </tr>\n",
              "    <tr>\n",
              "      <th>11</th>\n",
              "      <td>11</td>\n",
              "      <td>2017-01-01 11:00:00</td>\n",
              "      <td>41.968519</td>\n",
              "    </tr>\n",
              "    <tr>\n",
              "      <th>12</th>\n",
              "      <td>12</td>\n",
              "      <td>2017-01-01 12:00:00</td>\n",
              "      <td>42.724735</td>\n",
              "    </tr>\n",
              "    <tr>\n",
              "      <th>13</th>\n",
              "      <td>13</td>\n",
              "      <td>2017-01-01 13:00:00</td>\n",
              "      <td>47.936459</td>\n",
              "    </tr>\n",
              "    <tr>\n",
              "      <th>14</th>\n",
              "      <td>14</td>\n",
              "      <td>2017-01-01 14:00:00</td>\n",
              "      <td>45.971881</td>\n",
              "    </tr>\n",
              "    <tr>\n",
              "      <th>15</th>\n",
              "      <td>15</td>\n",
              "      <td>2017-01-01 15:00:00</td>\n",
              "      <td>41.359861</td>\n",
              "    </tr>\n",
              "    <tr>\n",
              "      <th>16</th>\n",
              "      <td>16</td>\n",
              "      <td>2017-01-01 16:00:00</td>\n",
              "      <td>43.868033</td>\n",
              "    </tr>\n",
              "    <tr>\n",
              "      <th>17</th>\n",
              "      <td>17</td>\n",
              "      <td>2017-01-01 17:00:00</td>\n",
              "      <td>47.615541</td>\n",
              "    </tr>\n",
              "    <tr>\n",
              "      <th>18</th>\n",
              "      <td>18</td>\n",
              "      <td>2017-01-01 18:00:00</td>\n",
              "      <td>38.352760</td>\n",
              "    </tr>\n",
              "    <tr>\n",
              "      <th>19</th>\n",
              "      <td>19</td>\n",
              "      <td>2017-01-01 19:00:00</td>\n",
              "      <td>47.268928</td>\n",
              "    </tr>\n",
              "    <tr>\n",
              "      <th>20</th>\n",
              "      <td>20</td>\n",
              "      <td>2017-01-01 20:00:00</td>\n",
              "      <td>46.444756</td>\n",
              "    </tr>\n",
              "    <tr>\n",
              "      <th>21</th>\n",
              "      <td>21</td>\n",
              "      <td>2017-01-01 21:00:00</td>\n",
              "      <td>41.981908</td>\n",
              "    </tr>\n",
              "    <tr>\n",
              "      <th>22</th>\n",
              "      <td>22</td>\n",
              "      <td>2017-01-01 22:00:00</td>\n",
              "      <td>39.817240</td>\n",
              "    </tr>\n",
              "    <tr>\n",
              "      <th>23</th>\n",
              "      <td>23</td>\n",
              "      <td>2017-01-01 23:00:00</td>\n",
              "      <td>44.277821</td>\n",
              "    </tr>\n",
              "    <tr>\n",
              "      <th>24</th>\n",
              "      <td>24</td>\n",
              "      <td>2017-01-02 00:00:00</td>\n",
              "      <td>47.621563</td>\n",
              "    </tr>\n",
              "    <tr>\n",
              "      <th>25</th>\n",
              "      <td>25</td>\n",
              "      <td>2017-01-02 01:00:00</td>\n",
              "      <td>47.070161</td>\n",
              "    </tr>\n",
              "    <tr>\n",
              "      <th>26</th>\n",
              "      <td>26</td>\n",
              "      <td>2017-01-02 02:00:00</td>\n",
              "      <td>46.894923</td>\n",
              "    </tr>\n",
              "    <tr>\n",
              "      <th>27</th>\n",
              "      <td>27</td>\n",
              "      <td>2017-01-02 03:00:00</td>\n",
              "      <td>47.061395</td>\n",
              "    </tr>\n",
              "    <tr>\n",
              "      <th>28</th>\n",
              "      <td>28</td>\n",
              "      <td>2017-01-02 04:00:00</td>\n",
              "      <td>47.016156</td>\n",
              "    </tr>\n",
              "    <tr>\n",
              "      <th>29</th>\n",
              "      <td>29</td>\n",
              "      <td>2017-01-02 05:00:00</td>\n",
              "      <td>44.826296</td>\n",
              "    </tr>\n",
              "    <tr>\n",
              "      <th>30</th>\n",
              "      <td>30</td>\n",
              "      <td>2017-01-02 06:00:00</td>\n",
              "      <td>42.372913</td>\n",
              "    </tr>\n",
              "    <tr>\n",
              "      <th>31</th>\n",
              "      <td>31</td>\n",
              "      <td>2017-01-02 07:00:00</td>\n",
              "      <td>41.039407</td>\n",
              "    </tr>\n",
              "    <tr>\n",
              "      <th>32</th>\n",
              "      <td>32</td>\n",
              "      <td>2017-01-02 08:00:00</td>\n",
              "      <td>28.423751</td>\n",
              "    </tr>\n",
              "    <tr>\n",
              "      <th>33</th>\n",
              "      <td>33</td>\n",
              "      <td>2017-01-02 09:00:00</td>\n",
              "      <td>33.661183</td>\n",
              "    </tr>\n",
              "    <tr>\n",
              "      <th>34</th>\n",
              "      <td>34</td>\n",
              "      <td>2017-01-02 10:00:00</td>\n",
              "      <td>39.493022</td>\n",
              "    </tr>\n",
              "    <tr>\n",
              "      <th>35</th>\n",
              "      <td>35</td>\n",
              "      <td>2017-01-02 11:00:00</td>\n",
              "      <td>32.443944</td>\n",
              "    </tr>\n",
              "    <tr>\n",
              "      <th>36</th>\n",
              "      <td>36</td>\n",
              "      <td>2017-01-02 12:00:00</td>\n",
              "      <td>22.159932</td>\n",
              "    </tr>\n",
              "    <tr>\n",
              "      <th>37</th>\n",
              "      <td>37</td>\n",
              "      <td>2017-01-02 13:00:00</td>\n",
              "      <td>24.322088</td>\n",
              "    </tr>\n",
              "    <tr>\n",
              "      <th>38</th>\n",
              "      <td>38</td>\n",
              "      <td>2017-01-02 14:00:00</td>\n",
              "      <td>25.681217</td>\n",
              "    </tr>\n",
              "    <tr>\n",
              "      <th>39</th>\n",
              "      <td>39</td>\n",
              "      <td>2017-01-02 15:00:00</td>\n",
              "      <td>23.944490</td>\n",
              "    </tr>\n",
              "    <tr>\n",
              "      <th>40</th>\n",
              "      <td>40</td>\n",
              "      <td>2017-01-02 16:00:00</td>\n",
              "      <td>18.730192</td>\n",
              "    </tr>\n",
              "    <tr>\n",
              "      <th>41</th>\n",
              "      <td>41</td>\n",
              "      <td>2017-01-02 17:00:00</td>\n",
              "      <td>18.974225</td>\n",
              "    </tr>\n",
              "    <tr>\n",
              "      <th>42</th>\n",
              "      <td>42</td>\n",
              "      <td>2017-01-02 18:00:00</td>\n",
              "      <td>20.099364</td>\n",
              "    </tr>\n",
              "    <tr>\n",
              "      <th>43</th>\n",
              "      <td>43</td>\n",
              "      <td>2017-01-02 19:00:00</td>\n",
              "      <td>30.300381</td>\n",
              "    </tr>\n",
              "    <tr>\n",
              "      <th>44</th>\n",
              "      <td>44</td>\n",
              "      <td>2017-01-02 20:00:00</td>\n",
              "      <td>38.239332</td>\n",
              "    </tr>\n",
              "    <tr>\n",
              "      <th>45</th>\n",
              "      <td>45</td>\n",
              "      <td>2017-01-02 21:00:00</td>\n",
              "      <td>44.186865</td>\n",
              "    </tr>\n",
              "    <tr>\n",
              "      <th>46</th>\n",
              "      <td>46</td>\n",
              "      <td>2017-01-02 22:00:00</td>\n",
              "      <td>42.602738</td>\n",
              "    </tr>\n",
              "    <tr>\n",
              "      <th>47</th>\n",
              "      <td>47</td>\n",
              "      <td>2017-01-02 23:00:00</td>\n",
              "      <td>44.892171</td>\n",
              "    </tr>\n",
              "    <tr>\n",
              "      <th>48</th>\n",
              "      <td>48</td>\n",
              "      <td>2017-01-03 00:00:00</td>\n",
              "      <td>48.665823</td>\n",
              "    </tr>\n",
              "    <tr>\n",
              "      <th>49</th>\n",
              "      <td>49</td>\n",
              "      <td>2017-01-03 01:00:00</td>\n",
              "      <td>49.257496</td>\n",
              "    </tr>\n",
              "  </tbody>\n",
              "</table>\n",
              "</div>"
            ],
            "text/plain": [
              "    id                date      speed\n",
              "0    0 2017-01-01 00:00:00  43.002930\n",
              "1    1 2017-01-01 01:00:00  46.118696\n",
              "2    2 2017-01-01 02:00:00  44.294158\n",
              "3    3 2017-01-01 03:00:00  41.067468\n",
              "4    4 2017-01-01 04:00:00  46.448653\n",
              "5    5 2017-01-01 05:00:00  46.797766\n",
              "6    6 2017-01-01 06:00:00  44.404925\n",
              "7    7 2017-01-01 07:00:00  45.255897\n",
              "8    8 2017-01-01 08:00:00  45.680859\n",
              "9    9 2017-01-01 09:00:00  48.435676\n",
              "10  10 2017-01-01 10:00:00  49.457054\n",
              "11  11 2017-01-01 11:00:00  41.968519\n",
              "12  12 2017-01-01 12:00:00  42.724735\n",
              "13  13 2017-01-01 13:00:00  47.936459\n",
              "14  14 2017-01-01 14:00:00  45.971881\n",
              "15  15 2017-01-01 15:00:00  41.359861\n",
              "16  16 2017-01-01 16:00:00  43.868033\n",
              "17  17 2017-01-01 17:00:00  47.615541\n",
              "18  18 2017-01-01 18:00:00  38.352760\n",
              "19  19 2017-01-01 19:00:00  47.268928\n",
              "20  20 2017-01-01 20:00:00  46.444756\n",
              "21  21 2017-01-01 21:00:00  41.981908\n",
              "22  22 2017-01-01 22:00:00  39.817240\n",
              "23  23 2017-01-01 23:00:00  44.277821\n",
              "24  24 2017-01-02 00:00:00  47.621563\n",
              "25  25 2017-01-02 01:00:00  47.070161\n",
              "26  26 2017-01-02 02:00:00  46.894923\n",
              "27  27 2017-01-02 03:00:00  47.061395\n",
              "28  28 2017-01-02 04:00:00  47.016156\n",
              "29  29 2017-01-02 05:00:00  44.826296\n",
              "30  30 2017-01-02 06:00:00  42.372913\n",
              "31  31 2017-01-02 07:00:00  41.039407\n",
              "32  32 2017-01-02 08:00:00  28.423751\n",
              "33  33 2017-01-02 09:00:00  33.661183\n",
              "34  34 2017-01-02 10:00:00  39.493022\n",
              "35  35 2017-01-02 11:00:00  32.443944\n",
              "36  36 2017-01-02 12:00:00  22.159932\n",
              "37  37 2017-01-02 13:00:00  24.322088\n",
              "38  38 2017-01-02 14:00:00  25.681217\n",
              "39  39 2017-01-02 15:00:00  23.944490\n",
              "40  40 2017-01-02 16:00:00  18.730192\n",
              "41  41 2017-01-02 17:00:00  18.974225\n",
              "42  42 2017-01-02 18:00:00  20.099364\n",
              "43  43 2017-01-02 19:00:00  30.300381\n",
              "44  44 2017-01-02 20:00:00  38.239332\n",
              "45  45 2017-01-02 21:00:00  44.186865\n",
              "46  46 2017-01-02 22:00:00  42.602738\n",
              "47  47 2017-01-02 23:00:00  44.892171\n",
              "48  48 2017-01-03 00:00:00  48.665823\n",
              "49  49 2017-01-03 01:00:00  49.257496"
            ]
          },
          "metadata": {
            "tags": []
          },
          "execution_count": 223
        }
      ]
    },
    {
      "cell_type": "code",
      "metadata": {
        "colab": {
          "base_uri": "https://localhost:8080/",
          "height": 1000
        },
        "id": "yMt92tQxchkJ",
        "outputId": "5ff78c58-f8f2-4554-9698-7d0b1d559e65"
      },
      "source": [
        "df_test.date =pd.to_datetime(df_test.date, dayfirst=True)\n",
        "df_test.head(50)"
      ],
      "execution_count": 224,
      "outputs": [
        {
          "output_type": "execute_result",
          "data": {
            "text/html": [
              "<div>\n",
              "<style scoped>\n",
              "    .dataframe tbody tr th:only-of-type {\n",
              "        vertical-align: middle;\n",
              "    }\n",
              "\n",
              "    .dataframe tbody tr th {\n",
              "        vertical-align: top;\n",
              "    }\n",
              "\n",
              "    .dataframe thead th {\n",
              "        text-align: right;\n",
              "    }\n",
              "</style>\n",
              "<table border=\"1\" class=\"dataframe\">\n",
              "  <thead>\n",
              "    <tr style=\"text-align: right;\">\n",
              "      <th></th>\n",
              "      <th>id</th>\n",
              "      <th>date</th>\n",
              "    </tr>\n",
              "  </thead>\n",
              "  <tbody>\n",
              "    <tr>\n",
              "      <th>0</th>\n",
              "      <td>0</td>\n",
              "      <td>2018-01-01 02:00:00</td>\n",
              "    </tr>\n",
              "    <tr>\n",
              "      <th>1</th>\n",
              "      <td>1</td>\n",
              "      <td>2018-01-01 05:00:00</td>\n",
              "    </tr>\n",
              "    <tr>\n",
              "      <th>2</th>\n",
              "      <td>2</td>\n",
              "      <td>2018-01-01 07:00:00</td>\n",
              "    </tr>\n",
              "    <tr>\n",
              "      <th>3</th>\n",
              "      <td>3</td>\n",
              "      <td>2018-01-01 08:00:00</td>\n",
              "    </tr>\n",
              "    <tr>\n",
              "      <th>4</th>\n",
              "      <td>4</td>\n",
              "      <td>2018-01-01 10:00:00</td>\n",
              "    </tr>\n",
              "    <tr>\n",
              "      <th>5</th>\n",
              "      <td>5</td>\n",
              "      <td>2018-01-01 16:00:00</td>\n",
              "    </tr>\n",
              "    <tr>\n",
              "      <th>6</th>\n",
              "      <td>6</td>\n",
              "      <td>2018-01-01 18:00:00</td>\n",
              "    </tr>\n",
              "    <tr>\n",
              "      <th>7</th>\n",
              "      <td>7</td>\n",
              "      <td>2018-01-02 01:00:00</td>\n",
              "    </tr>\n",
              "    <tr>\n",
              "      <th>8</th>\n",
              "      <td>8</td>\n",
              "      <td>2018-01-02 02:00:00</td>\n",
              "    </tr>\n",
              "    <tr>\n",
              "      <th>9</th>\n",
              "      <td>9</td>\n",
              "      <td>2018-01-02 07:00:00</td>\n",
              "    </tr>\n",
              "    <tr>\n",
              "      <th>10</th>\n",
              "      <td>10</td>\n",
              "      <td>2018-01-02 10:00:00</td>\n",
              "    </tr>\n",
              "    <tr>\n",
              "      <th>11</th>\n",
              "      <td>11</td>\n",
              "      <td>2018-01-02 14:00:00</td>\n",
              "    </tr>\n",
              "    <tr>\n",
              "      <th>12</th>\n",
              "      <td>12</td>\n",
              "      <td>2018-01-02 15:00:00</td>\n",
              "    </tr>\n",
              "    <tr>\n",
              "      <th>13</th>\n",
              "      <td>13</td>\n",
              "      <td>2018-01-02 16:00:00</td>\n",
              "    </tr>\n",
              "    <tr>\n",
              "      <th>14</th>\n",
              "      <td>14</td>\n",
              "      <td>2018-01-02 19:00:00</td>\n",
              "    </tr>\n",
              "    <tr>\n",
              "      <th>15</th>\n",
              "      <td>15</td>\n",
              "      <td>2018-01-02 20:00:00</td>\n",
              "    </tr>\n",
              "    <tr>\n",
              "      <th>16</th>\n",
              "      <td>16</td>\n",
              "      <td>2018-01-02 22:00:00</td>\n",
              "    </tr>\n",
              "    <tr>\n",
              "      <th>17</th>\n",
              "      <td>17</td>\n",
              "      <td>2018-01-02 23:00:00</td>\n",
              "    </tr>\n",
              "    <tr>\n",
              "      <th>18</th>\n",
              "      <td>18</td>\n",
              "      <td>2018-01-03 00:00:00</td>\n",
              "    </tr>\n",
              "    <tr>\n",
              "      <th>19</th>\n",
              "      <td>19</td>\n",
              "      <td>2018-01-03 03:00:00</td>\n",
              "    </tr>\n",
              "    <tr>\n",
              "      <th>20</th>\n",
              "      <td>20</td>\n",
              "      <td>2018-01-03 05:00:00</td>\n",
              "    </tr>\n",
              "    <tr>\n",
              "      <th>21</th>\n",
              "      <td>21</td>\n",
              "      <td>2018-01-03 06:00:00</td>\n",
              "    </tr>\n",
              "    <tr>\n",
              "      <th>22</th>\n",
              "      <td>22</td>\n",
              "      <td>2018-01-03 09:00:00</td>\n",
              "    </tr>\n",
              "    <tr>\n",
              "      <th>23</th>\n",
              "      <td>23</td>\n",
              "      <td>2018-01-03 10:00:00</td>\n",
              "    </tr>\n",
              "    <tr>\n",
              "      <th>24</th>\n",
              "      <td>24</td>\n",
              "      <td>2018-01-03 11:00:00</td>\n",
              "    </tr>\n",
              "    <tr>\n",
              "      <th>25</th>\n",
              "      <td>25</td>\n",
              "      <td>2018-01-03 14:00:00</td>\n",
              "    </tr>\n",
              "    <tr>\n",
              "      <th>26</th>\n",
              "      <td>26</td>\n",
              "      <td>2018-01-03 15:00:00</td>\n",
              "    </tr>\n",
              "    <tr>\n",
              "      <th>27</th>\n",
              "      <td>27</td>\n",
              "      <td>2018-01-03 16:00:00</td>\n",
              "    </tr>\n",
              "    <tr>\n",
              "      <th>28</th>\n",
              "      <td>28</td>\n",
              "      <td>2018-01-03 17:00:00</td>\n",
              "    </tr>\n",
              "    <tr>\n",
              "      <th>29</th>\n",
              "      <td>29</td>\n",
              "      <td>2018-01-03 18:00:00</td>\n",
              "    </tr>\n",
              "    <tr>\n",
              "      <th>30</th>\n",
              "      <td>30</td>\n",
              "      <td>2018-01-03 19:00:00</td>\n",
              "    </tr>\n",
              "    <tr>\n",
              "      <th>31</th>\n",
              "      <td>31</td>\n",
              "      <td>2018-01-03 23:00:00</td>\n",
              "    </tr>\n",
              "    <tr>\n",
              "      <th>32</th>\n",
              "      <td>32</td>\n",
              "      <td>2018-01-04 01:00:00</td>\n",
              "    </tr>\n",
              "    <tr>\n",
              "      <th>33</th>\n",
              "      <td>33</td>\n",
              "      <td>2018-01-04 07:00:00</td>\n",
              "    </tr>\n",
              "    <tr>\n",
              "      <th>34</th>\n",
              "      <td>34</td>\n",
              "      <td>2018-01-04 10:00:00</td>\n",
              "    </tr>\n",
              "    <tr>\n",
              "      <th>35</th>\n",
              "      <td>35</td>\n",
              "      <td>2018-01-04 11:00:00</td>\n",
              "    </tr>\n",
              "    <tr>\n",
              "      <th>36</th>\n",
              "      <td>36</td>\n",
              "      <td>2018-01-04 12:00:00</td>\n",
              "    </tr>\n",
              "    <tr>\n",
              "      <th>37</th>\n",
              "      <td>37</td>\n",
              "      <td>2018-01-04 13:00:00</td>\n",
              "    </tr>\n",
              "    <tr>\n",
              "      <th>38</th>\n",
              "      <td>38</td>\n",
              "      <td>2018-01-04 21:00:00</td>\n",
              "    </tr>\n",
              "    <tr>\n",
              "      <th>39</th>\n",
              "      <td>39</td>\n",
              "      <td>2018-01-04 22:00:00</td>\n",
              "    </tr>\n",
              "    <tr>\n",
              "      <th>40</th>\n",
              "      <td>40</td>\n",
              "      <td>2018-01-04 23:00:00</td>\n",
              "    </tr>\n",
              "    <tr>\n",
              "      <th>41</th>\n",
              "      <td>41</td>\n",
              "      <td>2018-01-05 02:00:00</td>\n",
              "    </tr>\n",
              "    <tr>\n",
              "      <th>42</th>\n",
              "      <td>42</td>\n",
              "      <td>2018-01-05 03:00:00</td>\n",
              "    </tr>\n",
              "    <tr>\n",
              "      <th>43</th>\n",
              "      <td>43</td>\n",
              "      <td>2018-01-05 06:00:00</td>\n",
              "    </tr>\n",
              "    <tr>\n",
              "      <th>44</th>\n",
              "      <td>44</td>\n",
              "      <td>2018-01-05 12:00:00</td>\n",
              "    </tr>\n",
              "    <tr>\n",
              "      <th>45</th>\n",
              "      <td>45</td>\n",
              "      <td>2018-01-05 14:00:00</td>\n",
              "    </tr>\n",
              "    <tr>\n",
              "      <th>46</th>\n",
              "      <td>46</td>\n",
              "      <td>2018-01-05 15:00:00</td>\n",
              "    </tr>\n",
              "    <tr>\n",
              "      <th>47</th>\n",
              "      <td>47</td>\n",
              "      <td>2018-01-05 18:00:00</td>\n",
              "    </tr>\n",
              "    <tr>\n",
              "      <th>48</th>\n",
              "      <td>48</td>\n",
              "      <td>2018-01-05 21:00:00</td>\n",
              "    </tr>\n",
              "    <tr>\n",
              "      <th>49</th>\n",
              "      <td>49</td>\n",
              "      <td>2018-01-06 00:00:00</td>\n",
              "    </tr>\n",
              "  </tbody>\n",
              "</table>\n",
              "</div>"
            ],
            "text/plain": [
              "    id                date\n",
              "0    0 2018-01-01 02:00:00\n",
              "1    1 2018-01-01 05:00:00\n",
              "2    2 2018-01-01 07:00:00\n",
              "3    3 2018-01-01 08:00:00\n",
              "4    4 2018-01-01 10:00:00\n",
              "5    5 2018-01-01 16:00:00\n",
              "6    6 2018-01-01 18:00:00\n",
              "7    7 2018-01-02 01:00:00\n",
              "8    8 2018-01-02 02:00:00\n",
              "9    9 2018-01-02 07:00:00\n",
              "10  10 2018-01-02 10:00:00\n",
              "11  11 2018-01-02 14:00:00\n",
              "12  12 2018-01-02 15:00:00\n",
              "13  13 2018-01-02 16:00:00\n",
              "14  14 2018-01-02 19:00:00\n",
              "15  15 2018-01-02 20:00:00\n",
              "16  16 2018-01-02 22:00:00\n",
              "17  17 2018-01-02 23:00:00\n",
              "18  18 2018-01-03 00:00:00\n",
              "19  19 2018-01-03 03:00:00\n",
              "20  20 2018-01-03 05:00:00\n",
              "21  21 2018-01-03 06:00:00\n",
              "22  22 2018-01-03 09:00:00\n",
              "23  23 2018-01-03 10:00:00\n",
              "24  24 2018-01-03 11:00:00\n",
              "25  25 2018-01-03 14:00:00\n",
              "26  26 2018-01-03 15:00:00\n",
              "27  27 2018-01-03 16:00:00\n",
              "28  28 2018-01-03 17:00:00\n",
              "29  29 2018-01-03 18:00:00\n",
              "30  30 2018-01-03 19:00:00\n",
              "31  31 2018-01-03 23:00:00\n",
              "32  32 2018-01-04 01:00:00\n",
              "33  33 2018-01-04 07:00:00\n",
              "34  34 2018-01-04 10:00:00\n",
              "35  35 2018-01-04 11:00:00\n",
              "36  36 2018-01-04 12:00:00\n",
              "37  37 2018-01-04 13:00:00\n",
              "38  38 2018-01-04 21:00:00\n",
              "39  39 2018-01-04 22:00:00\n",
              "40  40 2018-01-04 23:00:00\n",
              "41  41 2018-01-05 02:00:00\n",
              "42  42 2018-01-05 03:00:00\n",
              "43  43 2018-01-05 06:00:00\n",
              "44  44 2018-01-05 12:00:00\n",
              "45  45 2018-01-05 14:00:00\n",
              "46  46 2018-01-05 15:00:00\n",
              "47  47 2018-01-05 18:00:00\n",
              "48  48 2018-01-05 21:00:00\n",
              "49  49 2018-01-06 00:00:00"
            ]
          },
          "metadata": {
            "tags": []
          },
          "execution_count": 224
        }
      ]
    },
    {
      "cell_type": "markdown",
      "metadata": {
        "id": "hEQ8UP3_E9m_"
      },
      "source": [
        "#Extract Features"
      ]
    },
    {
      "cell_type": "code",
      "metadata": {
        "id": "fGpEvpSYoj6K"
      },
      "source": [
        "def period(x):\n",
        "  if x < 4 : return 0 # late night\n",
        "  if x < 8 : return 1 # early morning\n",
        "  if x < 12 : return 2 # morning\n",
        "  if x < 16 : return 3 # afternoon\n",
        "  if x < 20 : return 4 # evening\n",
        "  if x < 24 : return 5 # night"
      ],
      "execution_count": 225,
      "outputs": []
    },
    {
      "cell_type": "code",
      "metadata": {
        "id": "_o9VGhawJVc4"
      },
      "source": [
        "def season(x):\n",
        "  if x < 3: return 0 #spring\n",
        "  if x < 6: return 1 #summer\n",
        "  if x < 9: return 2 #autumn\n",
        "  return 3 # winter"
      ],
      "execution_count": 226,
      "outputs": []
    },
    {
      "cell_type": "code",
      "metadata": {
        "id": "ecoopYLkKFVB"
      },
      "source": [
        "HK_holiday = ['2017-01-02','2017-01-28','2017-01-30','2017-01-31','2017-04-04',\n",
        "           '2017-04-14','2017-04-15','2017-04-17','2017-05-01','2017-05-03',\n",
        "           '2017-05-30','2017-07-01','2017-10-02','2017-10-05','2017-10-28',\n",
        "           '2017-12-25','2017-12-26',\n",
        "           '2018-01-01','2018-02-16','2018-02-17','2018-02-19','2018-03-30',\n",
        "           '2018-03-31','2018-04-02','2018-04-05','2018-05-01','2018-05-22',\n",
        "           '2018-06-18','2018-07-02','2018-09-25','2018-10-01','2018-10-17',\n",
        "           '2018-12-25','2018-12-26']\n",
        "for i in range(len(HK_holiday)):\n",
        "  HK_holiday[i] = pd.to_datetime(HK_holiday[i])"
      ],
      "execution_count": 227,
      "outputs": []
    },
    {
      "cell_type": "code",
      "metadata": {
        "id": "ry-Oc1KxLp_H"
      },
      "source": [
        "def extract(x):\n",
        "  for i in range(len(HK_holiday)):\n",
        "    if (x.year == HK_holiday[i].year) & (x.month == HK_holiday[i].month) &(x.day == HK_holiday[i].day):\n",
        "      return 1\n",
        "  return 0"
      ],
      "execution_count": 228,
      "outputs": []
    },
    {
      "cell_type": "code",
      "metadata": {
        "id": "RNWetH31vc1s"
      },
      "source": [
        "def extract_date(df, column):\n",
        "    df[column+\"_year\"] = df[column].apply(lambda x: x.year)\n",
        "    df[column+\"_month\"] = df[column].apply(lambda x: x.month)\n",
        "    df[column+\"_day\"] = df[column].apply(lambda x: x.day)\n",
        "    df[column+\"_hour\"] = df[column].apply(lambda x: x.hour)\n",
        "    df[column+\"_weekday\"] = df[column].apply(lambda x: x.weekday())\n",
        "    # df[column+\"_period\"] = df[column+\"_hour\"].apply(period)\n",
        "    # df[column+\"_season\"] = df[column+\"_month\"].apply(season)\n",
        "    # df[column+\"_isweekend\"] = df[column+\"_weekday\"].apply(lambda x: 0 if x<5 else 1)\n",
        "    df[column+\"_isholiday\"] = df[column].apply(extract)"
      ],
      "execution_count": 229,
      "outputs": []
    },
    {
      "cell_type": "code",
      "metadata": {
        "id": "yuSFwKtBvc0m"
      },
      "source": [
        "extract_date(df_train, 'date')"
      ],
      "execution_count": 230,
      "outputs": []
    },
    {
      "cell_type": "code",
      "metadata": {
        "id": "kuWzAgLOwCp7"
      },
      "source": [
        "extract_date(df_test, 'date')"
      ],
      "execution_count": 231,
      "outputs": []
    },
    {
      "cell_type": "code",
      "metadata": {
        "id": "JLsFgAHQwjpx"
      },
      "source": [
        "df_train.set_index('date', inplace = True)\n",
        "df_test.set_index('date', inplace = True)"
      ],
      "execution_count": 232,
      "outputs": []
    },
    {
      "cell_type": "code",
      "metadata": {
        "id": "XUQ1OTdLwkXc"
      },
      "source": [
        "df_train = df_train.drop(['id'],axis =1)\n",
        "df_test = df_test.drop(['id'],axis =1)"
      ],
      "execution_count": 233,
      "outputs": []
    },
    {
      "cell_type": "code",
      "metadata": {
        "id": "jY8tDxHP6di7"
      },
      "source": [
        "df_train[['Mon', 'Tue' ,'Wedn' , 'Thur', 'Fri','Sat' ,'Sun']] = pd.get_dummies(df_train['date_weekday'])\n",
        "df_train = df_train.drop(['date_weekday'], axis=1)\n",
        "df_test[['Mon', 'Tue' ,'Wedn' , 'Thur', 'Fri','Sat' ,'Sun']] = pd.get_dummies(df_test['date_weekday'])\n",
        "df_test = df_test.drop(['date_weekday'], axis=1)"
      ],
      "execution_count": 234,
      "outputs": []
    },
    {
      "cell_type": "code",
      "metadata": {
        "colab": {
          "base_uri": "https://localhost:8080/",
          "height": 450
        },
        "id": "4cQYpJw-Dm9S",
        "outputId": "afe8d6b6-96c3-4bb9-9500-4cef63dd21f6"
      },
      "source": [
        "df_train"
      ],
      "execution_count": 235,
      "outputs": [
        {
          "output_type": "execute_result",
          "data": {
            "text/html": [
              "<div>\n",
              "<style scoped>\n",
              "    .dataframe tbody tr th:only-of-type {\n",
              "        vertical-align: middle;\n",
              "    }\n",
              "\n",
              "    .dataframe tbody tr th {\n",
              "        vertical-align: top;\n",
              "    }\n",
              "\n",
              "    .dataframe thead th {\n",
              "        text-align: right;\n",
              "    }\n",
              "</style>\n",
              "<table border=\"1\" class=\"dataframe\">\n",
              "  <thead>\n",
              "    <tr style=\"text-align: right;\">\n",
              "      <th></th>\n",
              "      <th>speed</th>\n",
              "      <th>date_year</th>\n",
              "      <th>date_month</th>\n",
              "      <th>date_day</th>\n",
              "      <th>date_hour</th>\n",
              "      <th>date_isholiday</th>\n",
              "      <th>Mon</th>\n",
              "      <th>Tue</th>\n",
              "      <th>Wedn</th>\n",
              "      <th>Thur</th>\n",
              "      <th>Fri</th>\n",
              "      <th>Sat</th>\n",
              "      <th>Sun</th>\n",
              "    </tr>\n",
              "    <tr>\n",
              "      <th>date</th>\n",
              "      <th></th>\n",
              "      <th></th>\n",
              "      <th></th>\n",
              "      <th></th>\n",
              "      <th></th>\n",
              "      <th></th>\n",
              "      <th></th>\n",
              "      <th></th>\n",
              "      <th></th>\n",
              "      <th></th>\n",
              "      <th></th>\n",
              "      <th></th>\n",
              "      <th></th>\n",
              "    </tr>\n",
              "  </thead>\n",
              "  <tbody>\n",
              "    <tr>\n",
              "      <th>2017-01-01 00:00:00</th>\n",
              "      <td>43.002930</td>\n",
              "      <td>2017</td>\n",
              "      <td>1</td>\n",
              "      <td>1</td>\n",
              "      <td>0</td>\n",
              "      <td>0</td>\n",
              "      <td>0</td>\n",
              "      <td>0</td>\n",
              "      <td>0</td>\n",
              "      <td>0</td>\n",
              "      <td>0</td>\n",
              "      <td>0</td>\n",
              "      <td>1</td>\n",
              "    </tr>\n",
              "    <tr>\n",
              "      <th>2017-01-01 01:00:00</th>\n",
              "      <td>46.118696</td>\n",
              "      <td>2017</td>\n",
              "      <td>1</td>\n",
              "      <td>1</td>\n",
              "      <td>1</td>\n",
              "      <td>0</td>\n",
              "      <td>0</td>\n",
              "      <td>0</td>\n",
              "      <td>0</td>\n",
              "      <td>0</td>\n",
              "      <td>0</td>\n",
              "      <td>0</td>\n",
              "      <td>1</td>\n",
              "    </tr>\n",
              "    <tr>\n",
              "      <th>2017-01-01 02:00:00</th>\n",
              "      <td>44.294158</td>\n",
              "      <td>2017</td>\n",
              "      <td>1</td>\n",
              "      <td>1</td>\n",
              "      <td>2</td>\n",
              "      <td>0</td>\n",
              "      <td>0</td>\n",
              "      <td>0</td>\n",
              "      <td>0</td>\n",
              "      <td>0</td>\n",
              "      <td>0</td>\n",
              "      <td>0</td>\n",
              "      <td>1</td>\n",
              "    </tr>\n",
              "    <tr>\n",
              "      <th>2017-01-01 03:00:00</th>\n",
              "      <td>41.067468</td>\n",
              "      <td>2017</td>\n",
              "      <td>1</td>\n",
              "      <td>1</td>\n",
              "      <td>3</td>\n",
              "      <td>0</td>\n",
              "      <td>0</td>\n",
              "      <td>0</td>\n",
              "      <td>0</td>\n",
              "      <td>0</td>\n",
              "      <td>0</td>\n",
              "      <td>0</td>\n",
              "      <td>1</td>\n",
              "    </tr>\n",
              "    <tr>\n",
              "      <th>2017-01-01 04:00:00</th>\n",
              "      <td>46.448653</td>\n",
              "      <td>2017</td>\n",
              "      <td>1</td>\n",
              "      <td>1</td>\n",
              "      <td>4</td>\n",
              "      <td>0</td>\n",
              "      <td>0</td>\n",
              "      <td>0</td>\n",
              "      <td>0</td>\n",
              "      <td>0</td>\n",
              "      <td>0</td>\n",
              "      <td>0</td>\n",
              "      <td>1</td>\n",
              "    </tr>\n",
              "    <tr>\n",
              "      <th>...</th>\n",
              "      <td>...</td>\n",
              "      <td>...</td>\n",
              "      <td>...</td>\n",
              "      <td>...</td>\n",
              "      <td>...</td>\n",
              "      <td>...</td>\n",
              "      <td>...</td>\n",
              "      <td>...</td>\n",
              "      <td>...</td>\n",
              "      <td>...</td>\n",
              "      <td>...</td>\n",
              "      <td>...</td>\n",
              "      <td>...</td>\n",
              "    </tr>\n",
              "    <tr>\n",
              "      <th>2018-12-31 12:00:00</th>\n",
              "      <td>19.865269</td>\n",
              "      <td>2018</td>\n",
              "      <td>12</td>\n",
              "      <td>31</td>\n",
              "      <td>12</td>\n",
              "      <td>0</td>\n",
              "      <td>1</td>\n",
              "      <td>0</td>\n",
              "      <td>0</td>\n",
              "      <td>0</td>\n",
              "      <td>0</td>\n",
              "      <td>0</td>\n",
              "      <td>0</td>\n",
              "    </tr>\n",
              "    <tr>\n",
              "      <th>2018-12-31 15:00:00</th>\n",
              "      <td>17.820375</td>\n",
              "      <td>2018</td>\n",
              "      <td>12</td>\n",
              "      <td>31</td>\n",
              "      <td>15</td>\n",
              "      <td>0</td>\n",
              "      <td>1</td>\n",
              "      <td>0</td>\n",
              "      <td>0</td>\n",
              "      <td>0</td>\n",
              "      <td>0</td>\n",
              "      <td>0</td>\n",
              "      <td>0</td>\n",
              "    </tr>\n",
              "    <tr>\n",
              "      <th>2018-12-31 16:00:00</th>\n",
              "      <td>12.501851</td>\n",
              "      <td>2018</td>\n",
              "      <td>12</td>\n",
              "      <td>31</td>\n",
              "      <td>16</td>\n",
              "      <td>0</td>\n",
              "      <td>1</td>\n",
              "      <td>0</td>\n",
              "      <td>0</td>\n",
              "      <td>0</td>\n",
              "      <td>0</td>\n",
              "      <td>0</td>\n",
              "      <td>0</td>\n",
              "    </tr>\n",
              "    <tr>\n",
              "      <th>2018-12-31 18:00:00</th>\n",
              "      <td>15.979319</td>\n",
              "      <td>2018</td>\n",
              "      <td>12</td>\n",
              "      <td>31</td>\n",
              "      <td>18</td>\n",
              "      <td>0</td>\n",
              "      <td>1</td>\n",
              "      <td>0</td>\n",
              "      <td>0</td>\n",
              "      <td>0</td>\n",
              "      <td>0</td>\n",
              "      <td>0</td>\n",
              "      <td>0</td>\n",
              "    </tr>\n",
              "    <tr>\n",
              "      <th>2018-12-31 20:00:00</th>\n",
              "      <td>40.594183</td>\n",
              "      <td>2018</td>\n",
              "      <td>12</td>\n",
              "      <td>31</td>\n",
              "      <td>20</td>\n",
              "      <td>0</td>\n",
              "      <td>1</td>\n",
              "      <td>0</td>\n",
              "      <td>0</td>\n",
              "      <td>0</td>\n",
              "      <td>0</td>\n",
              "      <td>0</td>\n",
              "      <td>0</td>\n",
              "    </tr>\n",
              "  </tbody>\n",
              "</table>\n",
              "<p>14006 rows × 13 columns</p>\n",
              "</div>"
            ],
            "text/plain": [
              "                         speed  date_year  date_month  ...  Fri  Sat  Sun\n",
              "date                                                   ...               \n",
              "2017-01-01 00:00:00  43.002930       2017           1  ...    0    0    1\n",
              "2017-01-01 01:00:00  46.118696       2017           1  ...    0    0    1\n",
              "2017-01-01 02:00:00  44.294158       2017           1  ...    0    0    1\n",
              "2017-01-01 03:00:00  41.067468       2017           1  ...    0    0    1\n",
              "2017-01-01 04:00:00  46.448653       2017           1  ...    0    0    1\n",
              "...                        ...        ...         ...  ...  ...  ...  ...\n",
              "2018-12-31 12:00:00  19.865269       2018          12  ...    0    0    0\n",
              "2018-12-31 15:00:00  17.820375       2018          12  ...    0    0    0\n",
              "2018-12-31 16:00:00  12.501851       2018          12  ...    0    0    0\n",
              "2018-12-31 18:00:00  15.979319       2018          12  ...    0    0    0\n",
              "2018-12-31 20:00:00  40.594183       2018          12  ...    0    0    0\n",
              "\n",
              "[14006 rows x 13 columns]"
            ]
          },
          "metadata": {
            "tags": []
          },
          "execution_count": 235
        }
      ]
    },
    {
      "cell_type": "code",
      "metadata": {
        "colab": {
          "base_uri": "https://localhost:8080/",
          "height": 450
        },
        "id": "oM2xqs2rhOrH",
        "outputId": "4a336e8f-2e8f-458d-d271-7a2f9efcdcd9"
      },
      "source": [
        "df_test"
      ],
      "execution_count": 236,
      "outputs": [
        {
          "output_type": "execute_result",
          "data": {
            "text/html": [
              "<div>\n",
              "<style scoped>\n",
              "    .dataframe tbody tr th:only-of-type {\n",
              "        vertical-align: middle;\n",
              "    }\n",
              "\n",
              "    .dataframe tbody tr th {\n",
              "        vertical-align: top;\n",
              "    }\n",
              "\n",
              "    .dataframe thead th {\n",
              "        text-align: right;\n",
              "    }\n",
              "</style>\n",
              "<table border=\"1\" class=\"dataframe\">\n",
              "  <thead>\n",
              "    <tr style=\"text-align: right;\">\n",
              "      <th></th>\n",
              "      <th>date_year</th>\n",
              "      <th>date_month</th>\n",
              "      <th>date_day</th>\n",
              "      <th>date_hour</th>\n",
              "      <th>date_isholiday</th>\n",
              "      <th>Mon</th>\n",
              "      <th>Tue</th>\n",
              "      <th>Wedn</th>\n",
              "      <th>Thur</th>\n",
              "      <th>Fri</th>\n",
              "      <th>Sat</th>\n",
              "      <th>Sun</th>\n",
              "    </tr>\n",
              "    <tr>\n",
              "      <th>date</th>\n",
              "      <th></th>\n",
              "      <th></th>\n",
              "      <th></th>\n",
              "      <th></th>\n",
              "      <th></th>\n",
              "      <th></th>\n",
              "      <th></th>\n",
              "      <th></th>\n",
              "      <th></th>\n",
              "      <th></th>\n",
              "      <th></th>\n",
              "      <th></th>\n",
              "    </tr>\n",
              "  </thead>\n",
              "  <tbody>\n",
              "    <tr>\n",
              "      <th>2018-01-01 02:00:00</th>\n",
              "      <td>2018</td>\n",
              "      <td>1</td>\n",
              "      <td>1</td>\n",
              "      <td>2</td>\n",
              "      <td>1</td>\n",
              "      <td>1</td>\n",
              "      <td>0</td>\n",
              "      <td>0</td>\n",
              "      <td>0</td>\n",
              "      <td>0</td>\n",
              "      <td>0</td>\n",
              "      <td>0</td>\n",
              "    </tr>\n",
              "    <tr>\n",
              "      <th>2018-01-01 05:00:00</th>\n",
              "      <td>2018</td>\n",
              "      <td>1</td>\n",
              "      <td>1</td>\n",
              "      <td>5</td>\n",
              "      <td>1</td>\n",
              "      <td>1</td>\n",
              "      <td>0</td>\n",
              "      <td>0</td>\n",
              "      <td>0</td>\n",
              "      <td>0</td>\n",
              "      <td>0</td>\n",
              "      <td>0</td>\n",
              "    </tr>\n",
              "    <tr>\n",
              "      <th>2018-01-01 07:00:00</th>\n",
              "      <td>2018</td>\n",
              "      <td>1</td>\n",
              "      <td>1</td>\n",
              "      <td>7</td>\n",
              "      <td>1</td>\n",
              "      <td>1</td>\n",
              "      <td>0</td>\n",
              "      <td>0</td>\n",
              "      <td>0</td>\n",
              "      <td>0</td>\n",
              "      <td>0</td>\n",
              "      <td>0</td>\n",
              "    </tr>\n",
              "    <tr>\n",
              "      <th>2018-01-01 08:00:00</th>\n",
              "      <td>2018</td>\n",
              "      <td>1</td>\n",
              "      <td>1</td>\n",
              "      <td>8</td>\n",
              "      <td>1</td>\n",
              "      <td>1</td>\n",
              "      <td>0</td>\n",
              "      <td>0</td>\n",
              "      <td>0</td>\n",
              "      <td>0</td>\n",
              "      <td>0</td>\n",
              "      <td>0</td>\n",
              "    </tr>\n",
              "    <tr>\n",
              "      <th>2018-01-01 10:00:00</th>\n",
              "      <td>2018</td>\n",
              "      <td>1</td>\n",
              "      <td>1</td>\n",
              "      <td>10</td>\n",
              "      <td>1</td>\n",
              "      <td>1</td>\n",
              "      <td>0</td>\n",
              "      <td>0</td>\n",
              "      <td>0</td>\n",
              "      <td>0</td>\n",
              "      <td>0</td>\n",
              "      <td>0</td>\n",
              "    </tr>\n",
              "    <tr>\n",
              "      <th>...</th>\n",
              "      <td>...</td>\n",
              "      <td>...</td>\n",
              "      <td>...</td>\n",
              "      <td>...</td>\n",
              "      <td>...</td>\n",
              "      <td>...</td>\n",
              "      <td>...</td>\n",
              "      <td>...</td>\n",
              "      <td>...</td>\n",
              "      <td>...</td>\n",
              "      <td>...</td>\n",
              "      <td>...</td>\n",
              "    </tr>\n",
              "    <tr>\n",
              "      <th>2018-12-31 17:00:00</th>\n",
              "      <td>2018</td>\n",
              "      <td>12</td>\n",
              "      <td>31</td>\n",
              "      <td>17</td>\n",
              "      <td>0</td>\n",
              "      <td>1</td>\n",
              "      <td>0</td>\n",
              "      <td>0</td>\n",
              "      <td>0</td>\n",
              "      <td>0</td>\n",
              "      <td>0</td>\n",
              "      <td>0</td>\n",
              "    </tr>\n",
              "    <tr>\n",
              "      <th>2018-12-31 19:00:00</th>\n",
              "      <td>2018</td>\n",
              "      <td>12</td>\n",
              "      <td>31</td>\n",
              "      <td>19</td>\n",
              "      <td>0</td>\n",
              "      <td>1</td>\n",
              "      <td>0</td>\n",
              "      <td>0</td>\n",
              "      <td>0</td>\n",
              "      <td>0</td>\n",
              "      <td>0</td>\n",
              "      <td>0</td>\n",
              "    </tr>\n",
              "    <tr>\n",
              "      <th>2018-12-31 21:00:00</th>\n",
              "      <td>2018</td>\n",
              "      <td>12</td>\n",
              "      <td>31</td>\n",
              "      <td>21</td>\n",
              "      <td>0</td>\n",
              "      <td>1</td>\n",
              "      <td>0</td>\n",
              "      <td>0</td>\n",
              "      <td>0</td>\n",
              "      <td>0</td>\n",
              "      <td>0</td>\n",
              "      <td>0</td>\n",
              "    </tr>\n",
              "    <tr>\n",
              "      <th>2018-12-31 22:00:00</th>\n",
              "      <td>2018</td>\n",
              "      <td>12</td>\n",
              "      <td>31</td>\n",
              "      <td>22</td>\n",
              "      <td>0</td>\n",
              "      <td>1</td>\n",
              "      <td>0</td>\n",
              "      <td>0</td>\n",
              "      <td>0</td>\n",
              "      <td>0</td>\n",
              "      <td>0</td>\n",
              "      <td>0</td>\n",
              "    </tr>\n",
              "    <tr>\n",
              "      <th>2018-12-31 23:00:00</th>\n",
              "      <td>2018</td>\n",
              "      <td>12</td>\n",
              "      <td>31</td>\n",
              "      <td>23</td>\n",
              "      <td>0</td>\n",
              "      <td>1</td>\n",
              "      <td>0</td>\n",
              "      <td>0</td>\n",
              "      <td>0</td>\n",
              "      <td>0</td>\n",
              "      <td>0</td>\n",
              "      <td>0</td>\n",
              "    </tr>\n",
              "  </tbody>\n",
              "</table>\n",
              "<p>3504 rows × 12 columns</p>\n",
              "</div>"
            ],
            "text/plain": [
              "                     date_year  date_month  date_day  ...  Fri  Sat  Sun\n",
              "date                                                  ...               \n",
              "2018-01-01 02:00:00       2018           1         1  ...    0    0    0\n",
              "2018-01-01 05:00:00       2018           1         1  ...    0    0    0\n",
              "2018-01-01 07:00:00       2018           1         1  ...    0    0    0\n",
              "2018-01-01 08:00:00       2018           1         1  ...    0    0    0\n",
              "2018-01-01 10:00:00       2018           1         1  ...    0    0    0\n",
              "...                        ...         ...       ...  ...  ...  ...  ...\n",
              "2018-12-31 17:00:00       2018          12        31  ...    0    0    0\n",
              "2018-12-31 19:00:00       2018          12        31  ...    0    0    0\n",
              "2018-12-31 21:00:00       2018          12        31  ...    0    0    0\n",
              "2018-12-31 22:00:00       2018          12        31  ...    0    0    0\n",
              "2018-12-31 23:00:00       2018          12        31  ...    0    0    0\n",
              "\n",
              "[3504 rows x 12 columns]"
            ]
          },
          "metadata": {
            "tags": []
          },
          "execution_count": 236
        }
      ]
    },
    {
      "cell_type": "markdown",
      "metadata": {
        "id": "AjKgRMp6hSP7"
      },
      "source": [
        "# validation"
      ]
    },
    {
      "cell_type": "markdown",
      "metadata": {
        "id": "shsWa-QD-kYt"
      },
      "source": [
        "year-base  splitting"
      ]
    },
    {
      "cell_type": "code",
      "metadata": {
        "id": "IkuJujOrrbMA"
      },
      "source": [
        "train = df_train[df_train['date_year'] == 2017]\n",
        "val = df_train[df_train['date_year'] == 2018]\n",
        "x_trainY = train.drop(['speed'], axis = 1)\n",
        "y_trainY = train.speed\n",
        "x_valY = val.drop(['speed'], axis = 1)\n",
        "y_valY = val.speed"
      ],
      "execution_count": 237,
      "outputs": []
    },
    {
      "cell_type": "code",
      "metadata": {
        "colab": {
          "base_uri": "https://localhost:8080/",
          "height": 450
        },
        "id": "qNw6ReFzsdma",
        "outputId": "cf6fa6df-ee0b-44a8-9711-cc908ab824b2"
      },
      "source": [
        "x_trainY"
      ],
      "execution_count": 238,
      "outputs": [
        {
          "output_type": "execute_result",
          "data": {
            "text/html": [
              "<div>\n",
              "<style scoped>\n",
              "    .dataframe tbody tr th:only-of-type {\n",
              "        vertical-align: middle;\n",
              "    }\n",
              "\n",
              "    .dataframe tbody tr th {\n",
              "        vertical-align: top;\n",
              "    }\n",
              "\n",
              "    .dataframe thead th {\n",
              "        text-align: right;\n",
              "    }\n",
              "</style>\n",
              "<table border=\"1\" class=\"dataframe\">\n",
              "  <thead>\n",
              "    <tr style=\"text-align: right;\">\n",
              "      <th></th>\n",
              "      <th>date_year</th>\n",
              "      <th>date_month</th>\n",
              "      <th>date_day</th>\n",
              "      <th>date_hour</th>\n",
              "      <th>date_isholiday</th>\n",
              "      <th>Mon</th>\n",
              "      <th>Tue</th>\n",
              "      <th>Wedn</th>\n",
              "      <th>Thur</th>\n",
              "      <th>Fri</th>\n",
              "      <th>Sat</th>\n",
              "      <th>Sun</th>\n",
              "    </tr>\n",
              "    <tr>\n",
              "      <th>date</th>\n",
              "      <th></th>\n",
              "      <th></th>\n",
              "      <th></th>\n",
              "      <th></th>\n",
              "      <th></th>\n",
              "      <th></th>\n",
              "      <th></th>\n",
              "      <th></th>\n",
              "      <th></th>\n",
              "      <th></th>\n",
              "      <th></th>\n",
              "      <th></th>\n",
              "    </tr>\n",
              "  </thead>\n",
              "  <tbody>\n",
              "    <tr>\n",
              "      <th>2017-01-01 00:00:00</th>\n",
              "      <td>2017</td>\n",
              "      <td>1</td>\n",
              "      <td>1</td>\n",
              "      <td>0</td>\n",
              "      <td>0</td>\n",
              "      <td>0</td>\n",
              "      <td>0</td>\n",
              "      <td>0</td>\n",
              "      <td>0</td>\n",
              "      <td>0</td>\n",
              "      <td>0</td>\n",
              "      <td>1</td>\n",
              "    </tr>\n",
              "    <tr>\n",
              "      <th>2017-01-01 01:00:00</th>\n",
              "      <td>2017</td>\n",
              "      <td>1</td>\n",
              "      <td>1</td>\n",
              "      <td>1</td>\n",
              "      <td>0</td>\n",
              "      <td>0</td>\n",
              "      <td>0</td>\n",
              "      <td>0</td>\n",
              "      <td>0</td>\n",
              "      <td>0</td>\n",
              "      <td>0</td>\n",
              "      <td>1</td>\n",
              "    </tr>\n",
              "    <tr>\n",
              "      <th>2017-01-01 02:00:00</th>\n",
              "      <td>2017</td>\n",
              "      <td>1</td>\n",
              "      <td>1</td>\n",
              "      <td>2</td>\n",
              "      <td>0</td>\n",
              "      <td>0</td>\n",
              "      <td>0</td>\n",
              "      <td>0</td>\n",
              "      <td>0</td>\n",
              "      <td>0</td>\n",
              "      <td>0</td>\n",
              "      <td>1</td>\n",
              "    </tr>\n",
              "    <tr>\n",
              "      <th>2017-01-01 03:00:00</th>\n",
              "      <td>2017</td>\n",
              "      <td>1</td>\n",
              "      <td>1</td>\n",
              "      <td>3</td>\n",
              "      <td>0</td>\n",
              "      <td>0</td>\n",
              "      <td>0</td>\n",
              "      <td>0</td>\n",
              "      <td>0</td>\n",
              "      <td>0</td>\n",
              "      <td>0</td>\n",
              "      <td>1</td>\n",
              "    </tr>\n",
              "    <tr>\n",
              "      <th>2017-01-01 04:00:00</th>\n",
              "      <td>2017</td>\n",
              "      <td>1</td>\n",
              "      <td>1</td>\n",
              "      <td>4</td>\n",
              "      <td>0</td>\n",
              "      <td>0</td>\n",
              "      <td>0</td>\n",
              "      <td>0</td>\n",
              "      <td>0</td>\n",
              "      <td>0</td>\n",
              "      <td>0</td>\n",
              "      <td>1</td>\n",
              "    </tr>\n",
              "    <tr>\n",
              "      <th>...</th>\n",
              "      <td>...</td>\n",
              "      <td>...</td>\n",
              "      <td>...</td>\n",
              "      <td>...</td>\n",
              "      <td>...</td>\n",
              "      <td>...</td>\n",
              "      <td>...</td>\n",
              "      <td>...</td>\n",
              "      <td>...</td>\n",
              "      <td>...</td>\n",
              "      <td>...</td>\n",
              "      <td>...</td>\n",
              "    </tr>\n",
              "    <tr>\n",
              "      <th>2017-12-31 19:00:00</th>\n",
              "      <td>2017</td>\n",
              "      <td>12</td>\n",
              "      <td>31</td>\n",
              "      <td>19</td>\n",
              "      <td>0</td>\n",
              "      <td>0</td>\n",
              "      <td>0</td>\n",
              "      <td>0</td>\n",
              "      <td>0</td>\n",
              "      <td>0</td>\n",
              "      <td>0</td>\n",
              "      <td>1</td>\n",
              "    </tr>\n",
              "    <tr>\n",
              "      <th>2017-12-31 20:00:00</th>\n",
              "      <td>2017</td>\n",
              "      <td>12</td>\n",
              "      <td>31</td>\n",
              "      <td>20</td>\n",
              "      <td>0</td>\n",
              "      <td>0</td>\n",
              "      <td>0</td>\n",
              "      <td>0</td>\n",
              "      <td>0</td>\n",
              "      <td>0</td>\n",
              "      <td>0</td>\n",
              "      <td>1</td>\n",
              "    </tr>\n",
              "    <tr>\n",
              "      <th>2017-12-31 21:00:00</th>\n",
              "      <td>2017</td>\n",
              "      <td>12</td>\n",
              "      <td>31</td>\n",
              "      <td>21</td>\n",
              "      <td>0</td>\n",
              "      <td>0</td>\n",
              "      <td>0</td>\n",
              "      <td>0</td>\n",
              "      <td>0</td>\n",
              "      <td>0</td>\n",
              "      <td>0</td>\n",
              "      <td>1</td>\n",
              "    </tr>\n",
              "    <tr>\n",
              "      <th>2017-12-31 22:00:00</th>\n",
              "      <td>2017</td>\n",
              "      <td>12</td>\n",
              "      <td>31</td>\n",
              "      <td>22</td>\n",
              "      <td>0</td>\n",
              "      <td>0</td>\n",
              "      <td>0</td>\n",
              "      <td>0</td>\n",
              "      <td>0</td>\n",
              "      <td>0</td>\n",
              "      <td>0</td>\n",
              "      <td>1</td>\n",
              "    </tr>\n",
              "    <tr>\n",
              "      <th>2017-12-31 23:00:00</th>\n",
              "      <td>2017</td>\n",
              "      <td>12</td>\n",
              "      <td>31</td>\n",
              "      <td>23</td>\n",
              "      <td>0</td>\n",
              "      <td>0</td>\n",
              "      <td>0</td>\n",
              "      <td>0</td>\n",
              "      <td>0</td>\n",
              "      <td>0</td>\n",
              "      <td>0</td>\n",
              "      <td>1</td>\n",
              "    </tr>\n",
              "  </tbody>\n",
              "</table>\n",
              "<p>8750 rows × 12 columns</p>\n",
              "</div>"
            ],
            "text/plain": [
              "                     date_year  date_month  date_day  ...  Fri  Sat  Sun\n",
              "date                                                  ...               \n",
              "2017-01-01 00:00:00       2017           1         1  ...    0    0    1\n",
              "2017-01-01 01:00:00       2017           1         1  ...    0    0    1\n",
              "2017-01-01 02:00:00       2017           1         1  ...    0    0    1\n",
              "2017-01-01 03:00:00       2017           1         1  ...    0    0    1\n",
              "2017-01-01 04:00:00       2017           1         1  ...    0    0    1\n",
              "...                        ...         ...       ...  ...  ...  ...  ...\n",
              "2017-12-31 19:00:00       2017          12        31  ...    0    0    1\n",
              "2017-12-31 20:00:00       2017          12        31  ...    0    0    1\n",
              "2017-12-31 21:00:00       2017          12        31  ...    0    0    1\n",
              "2017-12-31 22:00:00       2017          12        31  ...    0    0    1\n",
              "2017-12-31 23:00:00       2017          12        31  ...    0    0    1\n",
              "\n",
              "[8750 rows x 12 columns]"
            ]
          },
          "metadata": {
            "tags": []
          },
          "execution_count": 238
        }
      ]
    },
    {
      "cell_type": "code",
      "metadata": {
        "colab": {
          "base_uri": "https://localhost:8080/"
        },
        "id": "mmmlZDMdsiSy",
        "outputId": "f882a43a-a435-4274-d317-43eb995ec20d"
      },
      "source": [
        "y_trainY"
      ],
      "execution_count": 239,
      "outputs": [
        {
          "output_type": "execute_result",
          "data": {
            "text/plain": [
              "date\n",
              "2017-01-01 00:00:00    43.002930\n",
              "2017-01-01 01:00:00    46.118696\n",
              "2017-01-01 02:00:00    44.294158\n",
              "2017-01-01 03:00:00    41.067468\n",
              "2017-01-01 04:00:00    46.448653\n",
              "                         ...    \n",
              "2017-12-31 19:00:00    44.742372\n",
              "2017-12-31 20:00:00    46.428155\n",
              "2017-12-31 21:00:00    43.059179\n",
              "2017-12-31 22:00:00    42.754849\n",
              "2017-12-31 23:00:00    45.894518\n",
              "Name: speed, Length: 8750, dtype: float64"
            ]
          },
          "metadata": {
            "tags": []
          },
          "execution_count": 239
        }
      ]
    },
    {
      "cell_type": "markdown",
      "metadata": {
        "id": "9g-Au2WUr25e"
      },
      "source": [
        "randomly splitting"
      ]
    },
    {
      "cell_type": "code",
      "metadata": {
        "id": "TQY2BbxEyD2A"
      },
      "source": [
        "X_train = df_train.drop(['speed'], axis = 1)\n",
        "Y_train = df_train.speed\n",
        "X_test = df_test\n",
        "#x为数据集的feature熟悉，y为label.\n",
        "x_trainR, x_valR, y_trainR, y_valR = train_test_split(X_train, Y_train, test_size = 0.3)"
      ],
      "execution_count": 240,
      "outputs": []
    },
    {
      "cell_type": "code",
      "metadata": {
        "colab": {
          "base_uri": "https://localhost:8080/",
          "height": 450
        },
        "id": "gbV1ZUW9lf5Q",
        "outputId": "3c543c1c-e4fe-48f2-e6cf-16222bcaea3c"
      },
      "source": [
        "x_trainR"
      ],
      "execution_count": 241,
      "outputs": [
        {
          "output_type": "execute_result",
          "data": {
            "text/html": [
              "<div>\n",
              "<style scoped>\n",
              "    .dataframe tbody tr th:only-of-type {\n",
              "        vertical-align: middle;\n",
              "    }\n",
              "\n",
              "    .dataframe tbody tr th {\n",
              "        vertical-align: top;\n",
              "    }\n",
              "\n",
              "    .dataframe thead th {\n",
              "        text-align: right;\n",
              "    }\n",
              "</style>\n",
              "<table border=\"1\" class=\"dataframe\">\n",
              "  <thead>\n",
              "    <tr style=\"text-align: right;\">\n",
              "      <th></th>\n",
              "      <th>date_year</th>\n",
              "      <th>date_month</th>\n",
              "      <th>date_day</th>\n",
              "      <th>date_hour</th>\n",
              "      <th>date_isholiday</th>\n",
              "      <th>Mon</th>\n",
              "      <th>Tue</th>\n",
              "      <th>Wedn</th>\n",
              "      <th>Thur</th>\n",
              "      <th>Fri</th>\n",
              "      <th>Sat</th>\n",
              "      <th>Sun</th>\n",
              "    </tr>\n",
              "    <tr>\n",
              "      <th>date</th>\n",
              "      <th></th>\n",
              "      <th></th>\n",
              "      <th></th>\n",
              "      <th></th>\n",
              "      <th></th>\n",
              "      <th></th>\n",
              "      <th></th>\n",
              "      <th></th>\n",
              "      <th></th>\n",
              "      <th></th>\n",
              "      <th></th>\n",
              "      <th></th>\n",
              "    </tr>\n",
              "  </thead>\n",
              "  <tbody>\n",
              "    <tr>\n",
              "      <th>2018-04-29 17:00:00</th>\n",
              "      <td>2018</td>\n",
              "      <td>4</td>\n",
              "      <td>29</td>\n",
              "      <td>17</td>\n",
              "      <td>0</td>\n",
              "      <td>0</td>\n",
              "      <td>0</td>\n",
              "      <td>0</td>\n",
              "      <td>0</td>\n",
              "      <td>0</td>\n",
              "      <td>0</td>\n",
              "      <td>1</td>\n",
              "    </tr>\n",
              "    <tr>\n",
              "      <th>2017-06-10 05:00:00</th>\n",
              "      <td>2017</td>\n",
              "      <td>6</td>\n",
              "      <td>10</td>\n",
              "      <td>5</td>\n",
              "      <td>0</td>\n",
              "      <td>0</td>\n",
              "      <td>0</td>\n",
              "      <td>0</td>\n",
              "      <td>0</td>\n",
              "      <td>0</td>\n",
              "      <td>1</td>\n",
              "      <td>0</td>\n",
              "    </tr>\n",
              "    <tr>\n",
              "      <th>2017-12-13 21:00:00</th>\n",
              "      <td>2017</td>\n",
              "      <td>12</td>\n",
              "      <td>13</td>\n",
              "      <td>21</td>\n",
              "      <td>0</td>\n",
              "      <td>0</td>\n",
              "      <td>0</td>\n",
              "      <td>1</td>\n",
              "      <td>0</td>\n",
              "      <td>0</td>\n",
              "      <td>0</td>\n",
              "      <td>0</td>\n",
              "    </tr>\n",
              "    <tr>\n",
              "      <th>2018-11-26 13:00:00</th>\n",
              "      <td>2018</td>\n",
              "      <td>11</td>\n",
              "      <td>26</td>\n",
              "      <td>13</td>\n",
              "      <td>0</td>\n",
              "      <td>1</td>\n",
              "      <td>0</td>\n",
              "      <td>0</td>\n",
              "      <td>0</td>\n",
              "      <td>0</td>\n",
              "      <td>0</td>\n",
              "      <td>0</td>\n",
              "    </tr>\n",
              "    <tr>\n",
              "      <th>2017-01-27 00:00:00</th>\n",
              "      <td>2017</td>\n",
              "      <td>1</td>\n",
              "      <td>27</td>\n",
              "      <td>0</td>\n",
              "      <td>0</td>\n",
              "      <td>0</td>\n",
              "      <td>0</td>\n",
              "      <td>0</td>\n",
              "      <td>0</td>\n",
              "      <td>1</td>\n",
              "      <td>0</td>\n",
              "      <td>0</td>\n",
              "    </tr>\n",
              "    <tr>\n",
              "      <th>...</th>\n",
              "      <td>...</td>\n",
              "      <td>...</td>\n",
              "      <td>...</td>\n",
              "      <td>...</td>\n",
              "      <td>...</td>\n",
              "      <td>...</td>\n",
              "      <td>...</td>\n",
              "      <td>...</td>\n",
              "      <td>...</td>\n",
              "      <td>...</td>\n",
              "      <td>...</td>\n",
              "      <td>...</td>\n",
              "    </tr>\n",
              "    <tr>\n",
              "      <th>2017-09-02 12:00:00</th>\n",
              "      <td>2017</td>\n",
              "      <td>9</td>\n",
              "      <td>2</td>\n",
              "      <td>12</td>\n",
              "      <td>0</td>\n",
              "      <td>0</td>\n",
              "      <td>0</td>\n",
              "      <td>0</td>\n",
              "      <td>0</td>\n",
              "      <td>0</td>\n",
              "      <td>1</td>\n",
              "      <td>0</td>\n",
              "    </tr>\n",
              "    <tr>\n",
              "      <th>2017-04-24 00:00:00</th>\n",
              "      <td>2017</td>\n",
              "      <td>4</td>\n",
              "      <td>24</td>\n",
              "      <td>0</td>\n",
              "      <td>0</td>\n",
              "      <td>1</td>\n",
              "      <td>0</td>\n",
              "      <td>0</td>\n",
              "      <td>0</td>\n",
              "      <td>0</td>\n",
              "      <td>0</td>\n",
              "      <td>0</td>\n",
              "    </tr>\n",
              "    <tr>\n",
              "      <th>2018-08-12 04:00:00</th>\n",
              "      <td>2018</td>\n",
              "      <td>8</td>\n",
              "      <td>12</td>\n",
              "      <td>4</td>\n",
              "      <td>0</td>\n",
              "      <td>0</td>\n",
              "      <td>0</td>\n",
              "      <td>0</td>\n",
              "      <td>0</td>\n",
              "      <td>0</td>\n",
              "      <td>0</td>\n",
              "      <td>1</td>\n",
              "    </tr>\n",
              "    <tr>\n",
              "      <th>2018-09-09 14:00:00</th>\n",
              "      <td>2018</td>\n",
              "      <td>9</td>\n",
              "      <td>9</td>\n",
              "      <td>14</td>\n",
              "      <td>0</td>\n",
              "      <td>0</td>\n",
              "      <td>0</td>\n",
              "      <td>0</td>\n",
              "      <td>0</td>\n",
              "      <td>0</td>\n",
              "      <td>0</td>\n",
              "      <td>1</td>\n",
              "    </tr>\n",
              "    <tr>\n",
              "      <th>2017-11-07 02:00:00</th>\n",
              "      <td>2017</td>\n",
              "      <td>11</td>\n",
              "      <td>7</td>\n",
              "      <td>2</td>\n",
              "      <td>0</td>\n",
              "      <td>0</td>\n",
              "      <td>1</td>\n",
              "      <td>0</td>\n",
              "      <td>0</td>\n",
              "      <td>0</td>\n",
              "      <td>0</td>\n",
              "      <td>0</td>\n",
              "    </tr>\n",
              "  </tbody>\n",
              "</table>\n",
              "<p>9804 rows × 12 columns</p>\n",
              "</div>"
            ],
            "text/plain": [
              "                     date_year  date_month  date_day  ...  Fri  Sat  Sun\n",
              "date                                                  ...               \n",
              "2018-04-29 17:00:00       2018           4        29  ...    0    0    1\n",
              "2017-06-10 05:00:00       2017           6        10  ...    0    1    0\n",
              "2017-12-13 21:00:00       2017          12        13  ...    0    0    0\n",
              "2018-11-26 13:00:00       2018          11        26  ...    0    0    0\n",
              "2017-01-27 00:00:00       2017           1        27  ...    1    0    0\n",
              "...                        ...         ...       ...  ...  ...  ...  ...\n",
              "2017-09-02 12:00:00       2017           9         2  ...    0    1    0\n",
              "2017-04-24 00:00:00       2017           4        24  ...    0    0    0\n",
              "2018-08-12 04:00:00       2018           8        12  ...    0    0    1\n",
              "2018-09-09 14:00:00       2018           9         9  ...    0    0    1\n",
              "2017-11-07 02:00:00       2017          11         7  ...    0    0    0\n",
              "\n",
              "[9804 rows x 12 columns]"
            ]
          },
          "metadata": {
            "tags": []
          },
          "execution_count": 241
        }
      ]
    },
    {
      "cell_type": "code",
      "metadata": {
        "colab": {
          "base_uri": "https://localhost:8080/"
        },
        "id": "slkHQx_QoQnF",
        "outputId": "40962635-c15a-4886-e811-ed70d99b0f85"
      },
      "source": [
        "y_trainR"
      ],
      "execution_count": 242,
      "outputs": [
        {
          "output_type": "execute_result",
          "data": {
            "text/plain": [
              "date\n",
              "2018-04-29 17:00:00    41.707454\n",
              "2017-06-10 05:00:00    47.741464\n",
              "2017-12-13 21:00:00    44.377437\n",
              "2018-11-26 13:00:00    21.669387\n",
              "2017-01-27 00:00:00    49.161111\n",
              "                         ...    \n",
              "2017-09-02 12:00:00    22.323430\n",
              "2017-04-24 00:00:00    47.780636\n",
              "2018-08-12 04:00:00    45.576251\n",
              "2018-09-09 14:00:00    40.775907\n",
              "2017-11-07 02:00:00    48.448536\n",
              "Name: speed, Length: 9804, dtype: float64"
            ]
          },
          "metadata": {
            "tags": []
          },
          "execution_count": 242
        }
      ]
    },
    {
      "cell_type": "markdown",
      "metadata": {
        "id": "MGbA9qcduHqv"
      },
      "source": [
        "cross_val"
      ]
    },
    {
      "cell_type": "code",
      "metadata": {
        "colab": {
          "base_uri": "https://localhost:8080/",
          "height": 450
        },
        "id": "UMM-x6wguQLi",
        "outputId": "52db8900-8a5d-4782-fab3-34486c6a0d11"
      },
      "source": [
        "X_train"
      ],
      "execution_count": 243,
      "outputs": [
        {
          "output_type": "execute_result",
          "data": {
            "text/html": [
              "<div>\n",
              "<style scoped>\n",
              "    .dataframe tbody tr th:only-of-type {\n",
              "        vertical-align: middle;\n",
              "    }\n",
              "\n",
              "    .dataframe tbody tr th {\n",
              "        vertical-align: top;\n",
              "    }\n",
              "\n",
              "    .dataframe thead th {\n",
              "        text-align: right;\n",
              "    }\n",
              "</style>\n",
              "<table border=\"1\" class=\"dataframe\">\n",
              "  <thead>\n",
              "    <tr style=\"text-align: right;\">\n",
              "      <th></th>\n",
              "      <th>date_year</th>\n",
              "      <th>date_month</th>\n",
              "      <th>date_day</th>\n",
              "      <th>date_hour</th>\n",
              "      <th>date_isholiday</th>\n",
              "      <th>Mon</th>\n",
              "      <th>Tue</th>\n",
              "      <th>Wedn</th>\n",
              "      <th>Thur</th>\n",
              "      <th>Fri</th>\n",
              "      <th>Sat</th>\n",
              "      <th>Sun</th>\n",
              "    </tr>\n",
              "    <tr>\n",
              "      <th>date</th>\n",
              "      <th></th>\n",
              "      <th></th>\n",
              "      <th></th>\n",
              "      <th></th>\n",
              "      <th></th>\n",
              "      <th></th>\n",
              "      <th></th>\n",
              "      <th></th>\n",
              "      <th></th>\n",
              "      <th></th>\n",
              "      <th></th>\n",
              "      <th></th>\n",
              "    </tr>\n",
              "  </thead>\n",
              "  <tbody>\n",
              "    <tr>\n",
              "      <th>2017-01-01 00:00:00</th>\n",
              "      <td>2017</td>\n",
              "      <td>1</td>\n",
              "      <td>1</td>\n",
              "      <td>0</td>\n",
              "      <td>0</td>\n",
              "      <td>0</td>\n",
              "      <td>0</td>\n",
              "      <td>0</td>\n",
              "      <td>0</td>\n",
              "      <td>0</td>\n",
              "      <td>0</td>\n",
              "      <td>1</td>\n",
              "    </tr>\n",
              "    <tr>\n",
              "      <th>2017-01-01 01:00:00</th>\n",
              "      <td>2017</td>\n",
              "      <td>1</td>\n",
              "      <td>1</td>\n",
              "      <td>1</td>\n",
              "      <td>0</td>\n",
              "      <td>0</td>\n",
              "      <td>0</td>\n",
              "      <td>0</td>\n",
              "      <td>0</td>\n",
              "      <td>0</td>\n",
              "      <td>0</td>\n",
              "      <td>1</td>\n",
              "    </tr>\n",
              "    <tr>\n",
              "      <th>2017-01-01 02:00:00</th>\n",
              "      <td>2017</td>\n",
              "      <td>1</td>\n",
              "      <td>1</td>\n",
              "      <td>2</td>\n",
              "      <td>0</td>\n",
              "      <td>0</td>\n",
              "      <td>0</td>\n",
              "      <td>0</td>\n",
              "      <td>0</td>\n",
              "      <td>0</td>\n",
              "      <td>0</td>\n",
              "      <td>1</td>\n",
              "    </tr>\n",
              "    <tr>\n",
              "      <th>2017-01-01 03:00:00</th>\n",
              "      <td>2017</td>\n",
              "      <td>1</td>\n",
              "      <td>1</td>\n",
              "      <td>3</td>\n",
              "      <td>0</td>\n",
              "      <td>0</td>\n",
              "      <td>0</td>\n",
              "      <td>0</td>\n",
              "      <td>0</td>\n",
              "      <td>0</td>\n",
              "      <td>0</td>\n",
              "      <td>1</td>\n",
              "    </tr>\n",
              "    <tr>\n",
              "      <th>2017-01-01 04:00:00</th>\n",
              "      <td>2017</td>\n",
              "      <td>1</td>\n",
              "      <td>1</td>\n",
              "      <td>4</td>\n",
              "      <td>0</td>\n",
              "      <td>0</td>\n",
              "      <td>0</td>\n",
              "      <td>0</td>\n",
              "      <td>0</td>\n",
              "      <td>0</td>\n",
              "      <td>0</td>\n",
              "      <td>1</td>\n",
              "    </tr>\n",
              "    <tr>\n",
              "      <th>...</th>\n",
              "      <td>...</td>\n",
              "      <td>...</td>\n",
              "      <td>...</td>\n",
              "      <td>...</td>\n",
              "      <td>...</td>\n",
              "      <td>...</td>\n",
              "      <td>...</td>\n",
              "      <td>...</td>\n",
              "      <td>...</td>\n",
              "      <td>...</td>\n",
              "      <td>...</td>\n",
              "      <td>...</td>\n",
              "    </tr>\n",
              "    <tr>\n",
              "      <th>2018-12-31 12:00:00</th>\n",
              "      <td>2018</td>\n",
              "      <td>12</td>\n",
              "      <td>31</td>\n",
              "      <td>12</td>\n",
              "      <td>0</td>\n",
              "      <td>1</td>\n",
              "      <td>0</td>\n",
              "      <td>0</td>\n",
              "      <td>0</td>\n",
              "      <td>0</td>\n",
              "      <td>0</td>\n",
              "      <td>0</td>\n",
              "    </tr>\n",
              "    <tr>\n",
              "      <th>2018-12-31 15:00:00</th>\n",
              "      <td>2018</td>\n",
              "      <td>12</td>\n",
              "      <td>31</td>\n",
              "      <td>15</td>\n",
              "      <td>0</td>\n",
              "      <td>1</td>\n",
              "      <td>0</td>\n",
              "      <td>0</td>\n",
              "      <td>0</td>\n",
              "      <td>0</td>\n",
              "      <td>0</td>\n",
              "      <td>0</td>\n",
              "    </tr>\n",
              "    <tr>\n",
              "      <th>2018-12-31 16:00:00</th>\n",
              "      <td>2018</td>\n",
              "      <td>12</td>\n",
              "      <td>31</td>\n",
              "      <td>16</td>\n",
              "      <td>0</td>\n",
              "      <td>1</td>\n",
              "      <td>0</td>\n",
              "      <td>0</td>\n",
              "      <td>0</td>\n",
              "      <td>0</td>\n",
              "      <td>0</td>\n",
              "      <td>0</td>\n",
              "    </tr>\n",
              "    <tr>\n",
              "      <th>2018-12-31 18:00:00</th>\n",
              "      <td>2018</td>\n",
              "      <td>12</td>\n",
              "      <td>31</td>\n",
              "      <td>18</td>\n",
              "      <td>0</td>\n",
              "      <td>1</td>\n",
              "      <td>0</td>\n",
              "      <td>0</td>\n",
              "      <td>0</td>\n",
              "      <td>0</td>\n",
              "      <td>0</td>\n",
              "      <td>0</td>\n",
              "    </tr>\n",
              "    <tr>\n",
              "      <th>2018-12-31 20:00:00</th>\n",
              "      <td>2018</td>\n",
              "      <td>12</td>\n",
              "      <td>31</td>\n",
              "      <td>20</td>\n",
              "      <td>0</td>\n",
              "      <td>1</td>\n",
              "      <td>0</td>\n",
              "      <td>0</td>\n",
              "      <td>0</td>\n",
              "      <td>0</td>\n",
              "      <td>0</td>\n",
              "      <td>0</td>\n",
              "    </tr>\n",
              "  </tbody>\n",
              "</table>\n",
              "<p>14006 rows × 12 columns</p>\n",
              "</div>"
            ],
            "text/plain": [
              "                     date_year  date_month  date_day  ...  Fri  Sat  Sun\n",
              "date                                                  ...               \n",
              "2017-01-01 00:00:00       2017           1         1  ...    0    0    1\n",
              "2017-01-01 01:00:00       2017           1         1  ...    0    0    1\n",
              "2017-01-01 02:00:00       2017           1         1  ...    0    0    1\n",
              "2017-01-01 03:00:00       2017           1         1  ...    0    0    1\n",
              "2017-01-01 04:00:00       2017           1         1  ...    0    0    1\n",
              "...                        ...         ...       ...  ...  ...  ...  ...\n",
              "2018-12-31 12:00:00       2018          12        31  ...    0    0    0\n",
              "2018-12-31 15:00:00       2018          12        31  ...    0    0    0\n",
              "2018-12-31 16:00:00       2018          12        31  ...    0    0    0\n",
              "2018-12-31 18:00:00       2018          12        31  ...    0    0    0\n",
              "2018-12-31 20:00:00       2018          12        31  ...    0    0    0\n",
              "\n",
              "[14006 rows x 12 columns]"
            ]
          },
          "metadata": {
            "tags": []
          },
          "execution_count": 243
        }
      ]
    },
    {
      "cell_type": "code",
      "metadata": {
        "colab": {
          "base_uri": "https://localhost:8080/"
        },
        "id": "skI5WIbCuUq6",
        "outputId": "38d3f84d-ba73-438d-8cb9-2b680e01c5be"
      },
      "source": [
        "Y_train"
      ],
      "execution_count": 244,
      "outputs": [
        {
          "output_type": "execute_result",
          "data": {
            "text/plain": [
              "date\n",
              "2017-01-01 00:00:00    43.002930\n",
              "2017-01-01 01:00:00    46.118696\n",
              "2017-01-01 02:00:00    44.294158\n",
              "2017-01-01 03:00:00    41.067468\n",
              "2017-01-01 04:00:00    46.448653\n",
              "                         ...    \n",
              "2018-12-31 12:00:00    19.865269\n",
              "2018-12-31 15:00:00    17.820375\n",
              "2018-12-31 16:00:00    12.501851\n",
              "2018-12-31 18:00:00    15.979319\n",
              "2018-12-31 20:00:00    40.594183\n",
              "Name: speed, Length: 14006, dtype: float64"
            ]
          },
          "metadata": {
            "tags": []
          },
          "execution_count": 244
        }
      ]
    },
    {
      "cell_type": "markdown",
      "metadata": {
        "id": "7SMhFXTSms8A"
      },
      "source": [
        "# RandomForest"
      ]
    },
    {
      "cell_type": "markdown",
      "metadata": {
        "id": "zjk5xgzxtf4D"
      },
      "source": [
        "n_estimators"
      ]
    },
    {
      "cell_type": "code",
      "metadata": {
        "colab": {
          "base_uri": "https://localhost:8080/"
        },
        "id": "_AKTsaOKm1xz",
        "outputId": "35a5f955-62c6-4a7e-8ba6-84f27cd50205"
      },
      "source": [
        "param_test1 = {'n_estimators':range(100,140,10)}\n",
        "gsearch1 = GridSearchCV(RandomForestRegressor(), param_grid = param_test1, cv=5, scoring = 'neg_mean_squared_error')\n",
        "gsearch1.fit(x_trainR, y_trainR)\n",
        "gsearch1.best_estimator_, gsearch1.best_score_"
      ],
      "execution_count": 254,
      "outputs": [
        {
          "output_type": "execute_result",
          "data": {
            "text/plain": [
              "(RandomForestRegressor(bootstrap=True, ccp_alpha=0.0, criterion='mse',\n",
              "                       max_depth=None, max_features='auto', max_leaf_nodes=None,\n",
              "                       max_samples=None, min_impurity_decrease=0.0,\n",
              "                       min_impurity_split=None, min_samples_leaf=1,\n",
              "                       min_samples_split=2, min_weight_fraction_leaf=0.0,\n",
              "                       n_estimators=100, n_jobs=None, oob_score=False,\n",
              "                       random_state=None, verbose=0, warm_start=False),\n",
              " -13.632826070321153)"
            ]
          },
          "metadata": {
            "tags": []
          },
          "execution_count": 254
        }
      ]
    },
    {
      "cell_type": "code",
      "metadata": {
        "colab": {
          "base_uri": "https://localhost:8080/"
        },
        "id": "DRKT6BJ_t9kv",
        "outputId": "dda61d3b-2120-4c12-84c9-fbac415d5ddf"
      },
      "source": [
        "param_test1 = {'n_estimators':range(50,140,20)}\n",
        "gsearch1 = GridSearchCV(RandomForestRegressor(), param_grid = param_test1, cv=5, scoring = 'neg_mean_squared_error')\n",
        "gsearch1.fit(x_trainY, y_trainY)\n",
        "gsearch1.best_estimator_, gsearch1.best_score_"
      ],
      "execution_count": 255,
      "outputs": [
        {
          "output_type": "execute_result",
          "data": {
            "text/plain": [
              "(RandomForestRegressor(bootstrap=True, ccp_alpha=0.0, criterion='mse',\n",
              "                       max_depth=None, max_features='auto', max_leaf_nodes=None,\n",
              "                       max_samples=None, min_impurity_decrease=0.0,\n",
              "                       min_impurity_split=None, min_samples_leaf=1,\n",
              "                       min_samples_split=2, min_weight_fraction_leaf=0.0,\n",
              "                       n_estimators=90, n_jobs=None, oob_score=False,\n",
              "                       random_state=None, verbose=0, warm_start=False),\n",
              " -16.93712656925277)"
            ]
          },
          "metadata": {
            "tags": []
          },
          "execution_count": 255
        }
      ]
    },
    {
      "cell_type": "code",
      "metadata": {
        "colab": {
          "base_uri": "https://localhost:8080/"
        },
        "id": "TBliMfm7uAVe",
        "outputId": "1977f079-8b93-48de-e420-bcacc0ee725e"
      },
      "source": [
        "param_test1 = {'n_estimators':range(50,140,20)}\n",
        "gsearch1 = GridSearchCV(RandomForestRegressor(), param_grid = param_test1, cv=5, scoring = 'neg_mean_squared_error')\n",
        "gsearch1.fit(X_train, Y_train)\n",
        "gsearch1.best_estimator_, gsearch1.best_score_"
      ],
      "execution_count": 256,
      "outputs": [
        {
          "output_type": "execute_result",
          "data": {
            "text/plain": [
              "(RandomForestRegressor(bootstrap=True, ccp_alpha=0.0, criterion='mse',\n",
              "                       max_depth=None, max_features='auto', max_leaf_nodes=None,\n",
              "                       max_samples=None, min_impurity_decrease=0.0,\n",
              "                       min_impurity_split=None, min_samples_leaf=1,\n",
              "                       min_samples_split=2, min_weight_fraction_leaf=0.0,\n",
              "                       n_estimators=110, n_jobs=None, oob_score=False,\n",
              "                       random_state=None, verbose=0, warm_start=False),\n",
              " -16.822929234367628)"
            ]
          },
          "metadata": {
            "tags": []
          },
          "execution_count": 256
        }
      ]
    },
    {
      "cell_type": "markdown",
      "metadata": {
        "id": "Ac6j15m4tib4"
      },
      "source": [
        "max_depth   min_samples_split"
      ]
    },
    {
      "cell_type": "code",
      "metadata": {
        "colab": {
          "base_uri": "https://localhost:8080/"
        },
        "id": "jVcvbKZHHxnW",
        "outputId": "0dbc15fc-79bc-4082-c0e8-0ea302dce7f5"
      },
      "source": [
        "param_test2 = {'max_depth':range(12,16,1), 'min_samples_split':[30,40,50]}\n",
        "gsearch2 = GridSearchCV(RandomForestRegressor(n_estimators= 130),\n",
        "   param_grid = param_test2, cv=5, scoring = 'neg_mean_squared_error')\n",
        "gsearch2.fit(x_trainR, y_trainR)\n",
        "gsearch2.best_estimator_, gsearch2.best_score_"
      ],
      "execution_count": 265,
      "outputs": [
        {
          "output_type": "execute_result",
          "data": {
            "text/plain": [
              "(RandomForestRegressor(bootstrap=True, ccp_alpha=0.0, criterion='mse',\n",
              "                       max_depth=15, max_features='auto', max_leaf_nodes=None,\n",
              "                       max_samples=None, min_impurity_decrease=0.0,\n",
              "                       min_impurity_split=None, min_samples_leaf=1,\n",
              "                       min_samples_split=30, min_weight_fraction_leaf=0.0,\n",
              "                       n_estimators=130, n_jobs=None, oob_score=False,\n",
              "                       random_state=None, verbose=0, warm_start=False),\n",
              " -13.376891501684707)"
            ]
          },
          "metadata": {
            "tags": []
          },
          "execution_count": 265
        }
      ]
    },
    {
      "cell_type": "code",
      "metadata": {
        "colab": {
          "base_uri": "https://localhost:8080/"
        },
        "id": "8leCBjRUEq1w",
        "outputId": "47203226-1712-43fc-8c55-bf4161667d1c"
      },
      "source": [
        "param_test2 = { 'min_samples_split':[10,15,20,25,30]}\n",
        "gsearch2 = GridSearchCV(RandomForestRegressor(n_estimators= 130,max_depth=15),\n",
        "   param_grid = param_test2, cv=5, scoring = 'neg_mean_squared_error')\n",
        "gsearch2.fit(x_trainR, y_trainR)\n",
        "gsearch2.best_estimator_, gsearch2.best_score_"
      ],
      "execution_count": 268,
      "outputs": [
        {
          "output_type": "execute_result",
          "data": {
            "text/plain": [
              "(RandomForestRegressor(bootstrap=True, ccp_alpha=0.0, criterion='mse',\n",
              "                       max_depth=15, max_features='auto', max_leaf_nodes=None,\n",
              "                       max_samples=None, min_impurity_decrease=0.0,\n",
              "                       min_impurity_split=None, min_samples_leaf=1,\n",
              "                       min_samples_split=20, min_weight_fraction_leaf=0.0,\n",
              "                       n_estimators=130, n_jobs=None, oob_score=False,\n",
              "                       random_state=None, verbose=0, warm_start=False),\n",
              " -13.341933402450849)"
            ]
          },
          "metadata": {
            "tags": []
          },
          "execution_count": 268
        }
      ]
    },
    {
      "cell_type": "code",
      "metadata": {
        "colab": {
          "base_uri": "https://localhost:8080/"
        },
        "id": "YvZFVdVwun8j",
        "outputId": "5fe68063-775f-4dc8-805b-f200715ae1b6"
      },
      "source": [
        "param_test2 = {'max_depth':range(3,14,2), 'min_samples_split':[30,40,50]}\n",
        "gsearch2 = GridSearchCV(RandomForestRegressor(n_estimators= 90),\n",
        "   param_grid = param_test2, cv=5, scoring = 'neg_mean_squared_error')\n",
        "gsearch2.fit(x_trainY, y_trainY)\n",
        "gsearch2.best_estimator_, gsearch2.best_score_"
      ],
      "execution_count": 264,
      "outputs": [
        {
          "output_type": "execute_result",
          "data": {
            "text/plain": [
              "(RandomForestRegressor(bootstrap=True, ccp_alpha=0.0, criterion='mse',\n",
              "                       max_depth=11, max_features='auto', max_leaf_nodes=None,\n",
              "                       max_samples=None, min_impurity_decrease=0.0,\n",
              "                       min_impurity_split=None, min_samples_leaf=1,\n",
              "                       min_samples_split=30, min_weight_fraction_leaf=0.0,\n",
              "                       n_estimators=90, n_jobs=None, oob_score=False,\n",
              "                       random_state=None, verbose=0, warm_start=False),\n",
              " -14.798689438034113)"
            ]
          },
          "metadata": {
            "tags": []
          },
          "execution_count": 264
        }
      ]
    },
    {
      "cell_type": "code",
      "metadata": {
        "colab": {
          "base_uri": "https://localhost:8080/"
        },
        "id": "rkz4pVyPFReE",
        "outputId": "91bfe0ee-1d87-4d90-ad84-3fb35aea5818"
      },
      "source": [
        "param_test2 = { 'min_samples_split':[10,15,20,25,30]}\n",
        "gsearch2 = GridSearchCV(RandomForestRegressor(n_estimators= 90,max_depth=11),\n",
        "   param_grid = param_test2, cv=5, scoring = 'neg_mean_squared_error')\n",
        "gsearch2.fit(x_trainY, y_trainY)\n",
        "gsearch2.best_estimator_, gsearch2.best_score_"
      ],
      "execution_count": 269,
      "outputs": [
        {
          "output_type": "execute_result",
          "data": {
            "text/plain": [
              "(RandomForestRegressor(bootstrap=True, ccp_alpha=0.0, criterion='mse',\n",
              "                       max_depth=11, max_features='auto', max_leaf_nodes=None,\n",
              "                       max_samples=None, min_impurity_decrease=0.0,\n",
              "                       min_impurity_split=None, min_samples_leaf=1,\n",
              "                       min_samples_split=30, min_weight_fraction_leaf=0.0,\n",
              "                       n_estimators=90, n_jobs=None, oob_score=False,\n",
              "                       random_state=None, verbose=0, warm_start=False),\n",
              " -14.786716862677617)"
            ]
          },
          "metadata": {
            "tags": []
          },
          "execution_count": 269
        }
      ]
    },
    {
      "cell_type": "code",
      "metadata": {
        "colab": {
          "base_uri": "https://localhost:8080/"
        },
        "id": "1PuMb0fCuoEB",
        "outputId": "0091cf27-69f7-4851-9bfb-91e5998ce83f"
      },
      "source": [
        "param_test2 = {'max_depth':range(3,14,2), 'min_samples_split':[30,40,50]}\n",
        "gsearch2 = GridSearchCV(RandomForestRegressor(n_estimators= 110),\n",
        "   param_grid = param_test2, cv=5, scoring = 'neg_mean_squared_error')\n",
        "gsearch2.fit(X_train, Y_train)\n",
        "gsearch2.best_estimator_, gsearch2.best_score_"
      ],
      "execution_count": 266,
      "outputs": [
        {
          "output_type": "execute_result",
          "data": {
            "text/plain": [
              "(RandomForestRegressor(bootstrap=True, ccp_alpha=0.0, criterion='mse',\n",
              "                       max_depth=11, max_features='auto', max_leaf_nodes=None,\n",
              "                       max_samples=None, min_impurity_decrease=0.0,\n",
              "                       min_impurity_split=None, min_samples_leaf=1,\n",
              "                       min_samples_split=50, min_weight_fraction_leaf=0.0,\n",
              "                       n_estimators=110, n_jobs=None, oob_score=False,\n",
              "                       random_state=None, verbose=0, warm_start=False),\n",
              " -14.599522110402642)"
            ]
          },
          "metadata": {
            "tags": []
          },
          "execution_count": 266
        }
      ]
    },
    {
      "cell_type": "markdown",
      "metadata": {
        "id": "QmD2f5FDtj2o"
      },
      "source": [
        "min_samples_leaf"
      ]
    },
    {
      "cell_type": "code",
      "metadata": {
        "colab": {
          "base_uri": "https://localhost:8080/"
        },
        "id": "UyyyJf62Lgdl",
        "outputId": "07295a5e-6de8-4522-bff0-ff1750f19df5"
      },
      "source": [
        "param_test3 = {'min_samples_leaf':range(1,10,2)}\n",
        "gsearch3 = GridSearchCV(RandomForestRegressor(n_estimators= 130, max_depth=15,min_samples_split=20),\n",
        "   param_grid = param_test3, cv=5, scoring = 'neg_mean_squared_error')\n",
        "gsearch3.fit(x_trainR, y_trainR)\n",
        "gsearch3.best_params_, gsearch3.best_score_"
      ],
      "execution_count": 274,
      "outputs": [
        {
          "output_type": "execute_result",
          "data": {
            "text/plain": [
              "({'min_samples_leaf': 3}, -13.280037452985734)"
            ]
          },
          "metadata": {
            "tags": []
          },
          "execution_count": 274
        }
      ]
    },
    {
      "cell_type": "code",
      "metadata": {
        "colab": {
          "base_uri": "https://localhost:8080/"
        },
        "id": "p1OdYjT9uxxF",
        "outputId": "b721faaf-018c-40be-87f4-efade19c007b"
      },
      "source": [
        "param_test3 = { 'min_samples_leaf':range(1,10,2)}\n",
        "gsearch3 = GridSearchCV(RandomForestRegressor(n_estimators= 90, max_depth=11,min_samples_split=30),\n",
        "   param_grid = param_test3, cv=5, scoring = 'neg_mean_squared_error')\n",
        "gsearch3.fit(x_trainY, y_trainY)\n",
        "gsearch3.best_params_, gsearch3.best_score_"
      ],
      "execution_count": 272,
      "outputs": [
        {
          "output_type": "execute_result",
          "data": {
            "text/plain": [
              "({'min_samples_leaf': 1}, -14.770251646270617)"
            ]
          },
          "metadata": {
            "tags": []
          },
          "execution_count": 272
        }
      ]
    },
    {
      "cell_type": "code",
      "metadata": {
        "colab": {
          "base_uri": "https://localhost:8080/"
        },
        "id": "oY24dwgRux4s",
        "outputId": "47df6299-c726-47b3-ab44-2013cba92db5"
      },
      "source": [
        "param_test3 = {'min_samples_leaf':range(1,10,2)}\n",
        "gsearch3 = GridSearchCV(RandomForestRegressor(n_estimators= 110, max_depth=11,min_samples_split=50),\n",
        "   param_grid = param_test3, cv=5, scoring = 'neg_mean_squared_error')\n",
        "gsearch3.fit(X_train, Y_train)\n",
        "gsearch3.best_params_, gsearch3.best_score_"
      ],
      "execution_count": 273,
      "outputs": [
        {
          "output_type": "execute_result",
          "data": {
            "text/plain": [
              "({'min_samples_leaf': 3}, -14.601508520019816)"
            ]
          },
          "metadata": {
            "tags": []
          },
          "execution_count": 273
        }
      ]
    },
    {
      "cell_type": "markdown",
      "metadata": {
        "id": "qXw_RLG_tliL"
      },
      "source": [
        "max_features"
      ]
    },
    {
      "cell_type": "code",
      "metadata": {
        "colab": {
          "base_uri": "https://localhost:8080/"
        },
        "id": "xIVLm6VqOrsa",
        "outputId": "67f51631-c125-44ab-a40b-502a09d9cc60"
      },
      "source": [
        "param_test4 = {'max_features':[6,7,8,9]}\n",
        "gsearch4 =GridSearchCV(RandomForestRegressor(n_estimators= 130, max_depth=15, min_samples_leaf=3, min_samples_split=20),\n",
        "   param_grid = param_test4, cv=5, scoring = 'neg_mean_squared_error')\n",
        "gsearch4.fit(x_trainR, y_trainR)\n",
        "gsearch4.best_estimator_, gsearch4.best_score_"
      ],
      "execution_count": 275,
      "outputs": [
        {
          "output_type": "execute_result",
          "data": {
            "text/plain": [
              "({'max_features': 8}, -13.10956667624074)"
            ]
          },
          "metadata": {
            "tags": []
          },
          "execution_count": 275
        }
      ]
    },
    {
      "cell_type": "code",
      "metadata": {
        "colab": {
          "base_uri": "https://localhost:8080/"
        },
        "id": "Gg_-jWYau4q-",
        "outputId": "131c16e7-f9eb-4448-e136-14b7bb7b77d8"
      },
      "source": [
        "param_test4 = {'max_features':[6,7,8,9]}\n",
        "gsearch4 =GridSearchCV(RandomForestRegressor(n_estimators= 90, max_depth=11, min_samples_leaf=1, min_samples_split=30),\n",
        "   param_grid = param_test4, cv=5, scoring = 'neg_mean_squared_error')\n",
        "gsearch4.fit(x_trainY, y_trainY)\n",
        "gsearch4.best_estimator_, gsearch4.best_score_"
      ],
      "execution_count": 281,
      "outputs": [
        {
          "output_type": "execute_result",
          "data": {
            "text/plain": [
              "(RandomForestRegressor(bootstrap=True, ccp_alpha=0.0, criterion='mse',\n",
              "                       max_depth=11, max_features=9, max_leaf_nodes=None,\n",
              "                       max_samples=None, min_impurity_decrease=0.0,\n",
              "                       min_impurity_split=None, min_samples_leaf=1,\n",
              "                       min_samples_split=30, min_weight_fraction_leaf=0.0,\n",
              "                       n_estimators=90, n_jobs=None, oob_score=False,\n",
              "                       random_state=None, verbose=0, warm_start=False),\n",
              " -14.664663687908646)"
            ]
          },
          "metadata": {
            "tags": []
          },
          "execution_count": 281
        }
      ]
    },
    {
      "cell_type": "code",
      "metadata": {
        "colab": {
          "base_uri": "https://localhost:8080/"
        },
        "id": "oy6i-JC_u40M",
        "outputId": "1da3cb33-0892-442b-8e43-d81ca0a3849f"
      },
      "source": [
        "param_test4 = {'max_features':[6,7,8,9]}\n",
        "gsearch4 =GridSearchCV(RandomForestRegressor(n_estimators= 110, max_depth=11, min_samples_leaf=3, min_samples_split=50),\n",
        "   param_grid = param_test4, cv=5, scoring = 'neg_mean_squared_error')\n",
        "gsearch4.fit(X_train, Y_train)\n",
        "gsearch4.best_estimator_, gsearch4.best_score_"
      ],
      "execution_count": 282,
      "outputs": [
        {
          "output_type": "execute_result",
          "data": {
            "text/plain": [
              "(RandomForestRegressor(bootstrap=True, ccp_alpha=0.0, criterion='mse',\n",
              "                       max_depth=11, max_features=9, max_leaf_nodes=None,\n",
              "                       max_samples=None, min_impurity_decrease=0.0,\n",
              "                       min_impurity_split=None, min_samples_leaf=3,\n",
              "                       min_samples_split=50, min_weight_fraction_leaf=0.0,\n",
              "                       n_estimators=110, n_jobs=None, oob_score=False,\n",
              "                       random_state=None, verbose=0, warm_start=False),\n",
              " -14.689177760266807)"
            ]
          },
          "metadata": {
            "tags": []
          },
          "execution_count": 282
        }
      ]
    },
    {
      "cell_type": "markdown",
      "metadata": {
        "id": "uLRHYU2CtqXd"
      },
      "source": [
        "# Evaluation"
      ]
    },
    {
      "cell_type": "code",
      "metadata": {
        "id": "WqtbSrsfwAL9"
      },
      "source": [
        "tscv = TimeSeriesSplit(n_splits=5)"
      ],
      "execution_count": 245,
      "outputs": []
    },
    {
      "cell_type": "markdown",
      "metadata": {
        "id": "50-5GLZgvUA2"
      },
      "source": [
        "cross_val"
      ]
    },
    {
      "cell_type": "code",
      "metadata": {
        "id": "wTFDv0enz4cC",
        "colab": {
          "base_uri": "https://localhost:8080/"
        },
        "outputId": "d36f7321-3343-4696-f028-dd1b7b7c9044"
      },
      "source": [
        "m1 = RandomForestRegressor(n_estimators= 110, max_depth=11, min_samples_leaf=3, min_samples_split=50, max_features = 9,criterion='mse')\n",
        "m1.fit(X_train, Y_train)\n",
        "cv1 = cross_val_score(m1,X_train,Y_train,cv=tscv,scoring=\"neg_mean_squared_error\")\n",
        "mse1 = cv1.mean() * (-1)\n",
        "mse1"
      ],
      "execution_count": 288,
      "outputs": [
        {
          "output_type": "execute_result",
          "data": {
            "text/plain": [
              "15.690858124620089"
            ]
          },
          "metadata": {
            "tags": []
          },
          "execution_count": 288
        }
      ]
    },
    {
      "cell_type": "markdown",
      "metadata": {
        "id": "60yuSHM_vWWt"
      },
      "source": [
        "randomly"
      ]
    },
    {
      "cell_type": "code",
      "metadata": {
        "colab": {
          "base_uri": "https://localhost:8080/"
        },
        "id": "X3pkBd7TvZYA",
        "outputId": "02b2a661-11c7-4b57-c469-6d72b500c988"
      },
      "source": [
        "m1R = RandomForestRegressor(n_estimators= 130, max_depth=15, min_samples_leaf=3, min_samples_split=20,max_features = 8,criterion='mse')\n",
        "m1R.fit(x_trainR, y_trainR)\n",
        "y_predR = m1R.predict(x_valR)\n",
        "mse1R = mean_squared_error(y_valR, y_predR, sample_weight=None, multioutput='uniform_average')\n",
        "mse1R"
      ],
      "execution_count": 286,
      "outputs": [
        {
          "output_type": "execute_result",
          "data": {
            "text/plain": [
              "12.695289769449849"
            ]
          },
          "metadata": {
            "tags": []
          },
          "execution_count": 286
        }
      ]
    },
    {
      "cell_type": "markdown",
      "metadata": {
        "id": "jTd1XLSLvXyk"
      },
      "source": [
        "based on year"
      ]
    },
    {
      "cell_type": "code",
      "metadata": {
        "colab": {
          "base_uri": "https://localhost:8080/"
        },
        "id": "rV9MvnMjvaHn",
        "outputId": "d0b2bd9e-d7f5-4f12-fd30-5a248663f17d"
      },
      "source": [
        "m1Y = RandomForestRegressor(n_estimators= 90, max_depth=11, min_samples_leaf=1, min_samples_split=30, max_features = 9,criterion='mse')\n",
        "m1Y.fit(x_trainY, y_trainY)\n",
        "y_predY = m1R.predict(x_valY)\n",
        "mse1Y = mean_squared_error(y_valY, y_predY, sample_weight=None, multioutput='uniform_average')\n",
        "mse1Y"
      ],
      "execution_count": 287,
      "outputs": [
        {
          "output_type": "execute_result",
          "data": {
            "text/plain": [
              "11.794670374764"
            ]
          },
          "metadata": {
            "tags": []
          },
          "execution_count": 287
        }
      ]
    },
    {
      "cell_type": "code",
      "metadata": {
        "id": "gvQaT6WCrDYp"
      },
      "source": [
        "prediction1Y = m1Y.predict(X_test)\n",
        "r1Y = pd.DataFrame(prediction1Y)\n",
        "df_sample['speed'] = r1Y[0]\n",
        "df_sample\n",
        "df_sample.to_csv('1Y.csv', index=None)"
      ],
      "execution_count": 292,
      "outputs": []
    },
    {
      "cell_type": "code",
      "metadata": {
        "id": "QoLBj7-dy_aa"
      },
      "source": [
        "prediction1R = m1R.predict(X_test)\n",
        "r1R = pd.DataFrame(prediction1R)\n",
        "df_sample['speed'] = r1R[0]\n",
        "df_sample\n",
        "df_sample.to_csv('1R.csv', index=None)"
      ],
      "execution_count": 335,
      "outputs": []
    },
    {
      "cell_type": "code",
      "metadata": {
        "colab": {
          "base_uri": "https://localhost:8080/",
          "height": 419
        },
        "id": "mlGABSrty_me",
        "outputId": "6b61a197-8339-488f-a4ad-9cfad32be1b1"
      },
      "source": [
        "prediction1 = m1.predict(X_test)\n",
        "r1 = pd.DataFrame(prediction1)\n",
        "df_sample['speed'] = r1[0]\n",
        "df_sample\n",
        "df_sample.to_csv('1.csv', index=None)"
      ],
      "execution_count": 291,
      "outputs": [
        {
          "output_type": "execute_result",
          "data": {
            "text/html": [
              "<div>\n",
              "<style scoped>\n",
              "    .dataframe tbody tr th:only-of-type {\n",
              "        vertical-align: middle;\n",
              "    }\n",
              "\n",
              "    .dataframe tbody tr th {\n",
              "        vertical-align: top;\n",
              "    }\n",
              "\n",
              "    .dataframe thead th {\n",
              "        text-align: right;\n",
              "    }\n",
              "</style>\n",
              "<table border=\"1\" class=\"dataframe\">\n",
              "  <thead>\n",
              "    <tr style=\"text-align: right;\">\n",
              "      <th></th>\n",
              "      <th>id</th>\n",
              "      <th>speed</th>\n",
              "    </tr>\n",
              "  </thead>\n",
              "  <tbody>\n",
              "    <tr>\n",
              "      <th>0</th>\n",
              "      <td>0</td>\n",
              "      <td>47.943755</td>\n",
              "    </tr>\n",
              "    <tr>\n",
              "      <th>1</th>\n",
              "      <td>1</td>\n",
              "      <td>47.001671</td>\n",
              "    </tr>\n",
              "    <tr>\n",
              "      <th>2</th>\n",
              "      <td>2</td>\n",
              "      <td>37.623575</td>\n",
              "    </tr>\n",
              "    <tr>\n",
              "      <th>3</th>\n",
              "      <td>3</td>\n",
              "      <td>30.540654</td>\n",
              "    </tr>\n",
              "    <tr>\n",
              "      <th>4</th>\n",
              "      <td>4</td>\n",
              "      <td>34.099092</td>\n",
              "    </tr>\n",
              "    <tr>\n",
              "      <th>...</th>\n",
              "      <td>...</td>\n",
              "      <td>...</td>\n",
              "    </tr>\n",
              "    <tr>\n",
              "      <th>3499</th>\n",
              "      <td>3499</td>\n",
              "      <td>11.881746</td>\n",
              "    </tr>\n",
              "    <tr>\n",
              "      <th>3500</th>\n",
              "      <td>3500</td>\n",
              "      <td>22.427428</td>\n",
              "    </tr>\n",
              "    <tr>\n",
              "      <th>3501</th>\n",
              "      <td>3501</td>\n",
              "      <td>43.795421</td>\n",
              "    </tr>\n",
              "    <tr>\n",
              "      <th>3502</th>\n",
              "      <td>3502</td>\n",
              "      <td>39.267929</td>\n",
              "    </tr>\n",
              "    <tr>\n",
              "      <th>3503</th>\n",
              "      <td>3503</td>\n",
              "      <td>41.702438</td>\n",
              "    </tr>\n",
              "  </tbody>\n",
              "</table>\n",
              "<p>3504 rows × 2 columns</p>\n",
              "</div>"
            ],
            "text/plain": [
              "        id      speed\n",
              "0        0  47.943755\n",
              "1        1  47.001671\n",
              "2        2  37.623575\n",
              "3        3  30.540654\n",
              "4        4  34.099092\n",
              "...    ...        ...\n",
              "3499  3499  11.881746\n",
              "3500  3500  22.427428\n",
              "3501  3501  43.795421\n",
              "3502  3502  39.267929\n",
              "3503  3503  41.702438\n",
              "\n",
              "[3504 rows x 2 columns]"
            ]
          },
          "metadata": {
            "tags": []
          },
          "execution_count": 291
        }
      ]
    },
    {
      "cell_type": "markdown",
      "metadata": {
        "id": "xUUCKAEnofHx"
      },
      "source": [
        "# XBGoost"
      ]
    },
    {
      "cell_type": "markdown",
      "metadata": {
        "id": "dRwjxUQ3tuf0"
      },
      "source": [
        "n_estimators"
      ]
    },
    {
      "cell_type": "code",
      "metadata": {
        "colab": {
          "base_uri": "https://localhost:8080/"
        },
        "id": "RiBjzgagqpiY",
        "outputId": "186db749-c2fc-4b31-c9e9-0adbde13bd1e"
      },
      "source": [
        "cv_params = {'n_estimators':[230, 250, 280, 300]}\n",
        "regress_model = XGBRegressor(objective='reg:squarederror') \n",
        "gs = GridSearchCV(regress_model, cv_params, verbose=2, refit=True, cv=5, n_jobs=-1, scoring = 'neg_mean_squared_error')\n",
        "gs.fit(X_train, Y_train)  # X为训练数据的特征值，y为训练数据的label\n",
        "# 性能测评\n",
        "print(\"参数的最佳取值：:\", gs.best_params_)\n",
        "print(\"最佳模型得分:\", gs.best_score_)"
      ],
      "execution_count": 260,
      "outputs": [
        {
          "output_type": "stream",
          "text": [
            "Fitting 5 folds for each of 6 candidates, totalling 30 fits\n"
          ],
          "name": "stdout"
        },
        {
          "output_type": "stream",
          "text": [
            "[Parallel(n_jobs=-1)]: Using backend LokyBackend with 2 concurrent workers.\n",
            "[Parallel(n_jobs=-1)]: Done  30 out of  30 | elapsed:   24.2s finished\n"
          ],
          "name": "stderr"
        },
        {
          "output_type": "stream",
          "text": [
            "参数的最佳取值：: {'n_estimators': 230}\n",
            "最佳模型得分: -15.78359239965485\n"
          ],
          "name": "stdout"
        }
      ]
    },
    {
      "cell_type": "code",
      "metadata": {
        "colab": {
          "base_uri": "https://localhost:8080/"
        },
        "id": "ukL9rWmq4JGR",
        "outputId": "e19fd261-62c6-47cf-a004-0b99a6d04fc9"
      },
      "source": [
        "cv_params = {'n_estimators':[230, 250, 280, 300]}\n",
        "regress_model = XGBRegressor(objective='reg:squarederror') \n",
        "gs = GridSearchCV(regress_model, cv_params, verbose=2, refit=True, cv=5, n_jobs=-1, scoring = 'neg_mean_squared_error')\n",
        "gs.fit(x_trainR, y_trainR)  # X为训练数据的特征值，y为训练数据的label\n",
        "# 性能测评\n",
        "print(\"参数的最佳取值：:\", gs.best_params_)\n",
        "print(\"最佳模型得分:\", gs.best_score_)"
      ],
      "execution_count": 261,
      "outputs": [
        {
          "output_type": "stream",
          "text": [
            "Fitting 5 folds for each of 6 candidates, totalling 30 fits\n"
          ],
          "name": "stdout"
        },
        {
          "output_type": "stream",
          "text": [
            "[Parallel(n_jobs=-1)]: Using backend LokyBackend with 2 concurrent workers.\n",
            "[Parallel(n_jobs=-1)]: Done  30 out of  30 | elapsed:   16.5s finished\n"
          ],
          "name": "stderr"
        },
        {
          "output_type": "stream",
          "text": [
            "参数的最佳取值：: {'n_estimators': 230}\n",
            "最佳模型得分: -14.181054146405955\n"
          ],
          "name": "stdout"
        }
      ]
    },
    {
      "cell_type": "code",
      "metadata": {
        "colab": {
          "base_uri": "https://localhost:8080/"
        },
        "id": "vLUvr2IG4JNs",
        "outputId": "8689e9fe-dfd9-49e4-d645-a7fd8f487a4b"
      },
      "source": [
        "cv_params = {'n_estimators':[ 200,190,210,250]}\n",
        "regress_model = XGBRegressor(objective='reg:squarederror') \n",
        "gs = GridSearchCV(regress_model, cv_params, verbose=2, refit=True, cv=5, n_jobs=-1, scoring = 'neg_mean_squared_error')\n",
        "gs.fit(x_trainY, y_trainY)  # X为训练数据的特征值，y为训练数据的label\n",
        "# 性能测评\n",
        "print(\"参数的最佳取值：:\", gs.best_params_)\n",
        "print(\"最佳模型得分:\", gs.best_score_)"
      ],
      "execution_count": 293,
      "outputs": [
        {
          "output_type": "stream",
          "text": [
            "Fitting 5 folds for each of 4 candidates, totalling 20 fits\n"
          ],
          "name": "stdout"
        },
        {
          "output_type": "stream",
          "text": [
            "[Parallel(n_jobs=-1)]: Using backend LokyBackend with 2 concurrent workers.\n",
            "[Parallel(n_jobs=-1)]: Done  20 out of  20 | elapsed:   12.7s finished\n"
          ],
          "name": "stderr"
        },
        {
          "output_type": "stream",
          "text": [
            "参数的最佳取值：: {'n_estimators': 250}\n",
            "最佳模型得分: -15.093244019025558\n"
          ],
          "name": "stdout"
        }
      ]
    },
    {
      "cell_type": "markdown",
      "metadata": {
        "id": "gOl1vXbdtwGo"
      },
      "source": [
        "max_depth"
      ]
    },
    {
      "cell_type": "code",
      "metadata": {
        "colab": {
          "base_uri": "https://localhost:8080/"
        },
        "id": "O1piyDShawOW",
        "outputId": "cf811562-91b1-487d-855f-5c875767b10f"
      },
      "source": [
        "cv_params = {'max_depth':[ 3,4,5,7,9], 'min_child_weight':[1,2,3,4,5,6]}\n",
        "regress_model = XGBRegressor(n_estimators = 230, objective='reg:squarederror') \n",
        "gs = GridSearchCV(regress_model, cv_params, verbose=2, refit=True, cv=5, n_jobs=-1, scoring = 'neg_mean_squared_error')\n",
        "gs.fit(X_train, Y_train)  # X为训练数据的特征值，y为训练数据的label\n",
        "# 性能测评\n",
        "print(\"参数的最佳取值：:\", gs.best_params_)\n",
        "print(\"最佳模型得分:\", gs.best_score_)"
      ],
      "execution_count": 297,
      "outputs": [
        {
          "output_type": "stream",
          "text": [
            "Fitting 5 folds for each of 30 candidates, totalling 150 fits\n"
          ],
          "name": "stdout"
        },
        {
          "output_type": "stream",
          "text": [
            "[Parallel(n_jobs=-1)]: Using backend LokyBackend with 2 concurrent workers.\n",
            "[Parallel(n_jobs=-1)]: Done  37 tasks      | elapsed:   38.8s\n",
            "[Parallel(n_jobs=-1)]: Done 150 out of 150 | elapsed:  4.6min finished\n"
          ],
          "name": "stderr"
        },
        {
          "output_type": "stream",
          "text": [
            "参数的最佳取值：: {'max_depth': 4, 'min_child_weight': 6}\n",
            "最佳模型得分: 0.9161672838449529\n"
          ],
          "name": "stdout"
        }
      ]
    },
    {
      "cell_type": "code",
      "metadata": {
        "colab": {
          "base_uri": "https://localhost:8080/"
        },
        "id": "QcbKuCHz4vkA",
        "outputId": "cdf46103-f5eb-4dde-8c98-a77d3f57be0a"
      },
      "source": [
        "cv_params = {'max_depth':[ 3,4,5,7,9], 'min_child_weight':[1,2,3,4,5,6]}\n",
        "regress_model = XGBRegressor(n_estimators = 230, objective='reg:squarederror') \n",
        "gs = GridSearchCV(regress_model, cv_params, verbose=2, refit=True, cv=5, n_jobs=-1, scoring = 'neg_mean_squared_error')\n",
        "gs.fit(x_trainR, y_trainR)  # X为训练数据的特征值，y为训练数据的label\n",
        "# 性能测评\n",
        "print(\"参数的最佳取值：:\", gs.best_params_)\n",
        "print(\"最佳模型得分:\", gs.best_score_)"
      ],
      "execution_count": 295,
      "outputs": [
        {
          "output_type": "stream",
          "text": [
            "Fitting 5 folds for each of 30 candidates, totalling 150 fits\n"
          ],
          "name": "stdout"
        },
        {
          "output_type": "stream",
          "text": [
            "[Parallel(n_jobs=-1)]: Using backend LokyBackend with 2 concurrent workers.\n",
            "[Parallel(n_jobs=-1)]: Done  37 tasks      | elapsed:   28.1s\n",
            "[Parallel(n_jobs=-1)]: Done 150 out of 150 | elapsed:  3.4min finished\n"
          ],
          "name": "stderr"
        },
        {
          "output_type": "stream",
          "text": [
            "参数的最佳取值：: {'max_depth': 7, 'min_child_weight': 6}\n",
            "最佳模型得分: 0.9353870631703469\n"
          ],
          "name": "stdout"
        }
      ]
    },
    {
      "cell_type": "code",
      "metadata": {
        "colab": {
          "base_uri": "https://localhost:8080/"
        },
        "id": "ORjG4C4p4uwW",
        "outputId": "a45f5e81-5c0f-4c9a-89d0-a8a1c5deb47a"
      },
      "source": [
        "cv_params = {'max_depth':[ 3,4,5,7,9], 'min_child_weight':[1,2,3,4,5,6]}\n",
        "regress_model = XGBRegressor(n_estimators = 250, objective='reg:squarederror') \n",
        "gs = GridSearchCV(regress_model, cv_params, verbose=2, refit=True, cv=5, n_jobs=-1, scoring = 'neg_mean_squared_error')\n",
        "gs.fit(x_trainY, y_trainY)  # X为训练数据的特征值，y为训练数据的label\n",
        "# 性能测评\n",
        "print(\"参数的最佳取值：:\", gs.best_params_)\n",
        "print(\"最佳模型得分:\", gs.best_score_)"
      ],
      "execution_count": 296,
      "outputs": [
        {
          "output_type": "stream",
          "text": [
            "Fitting 5 folds for each of 30 candidates, totalling 150 fits\n"
          ],
          "name": "stdout"
        },
        {
          "output_type": "stream",
          "text": [
            "[Parallel(n_jobs=-1)]: Using backend LokyBackend with 2 concurrent workers.\n",
            "[Parallel(n_jobs=-1)]: Done  37 tasks      | elapsed:   26.5s\n",
            "[Parallel(n_jobs=-1)]: Done 150 out of 150 | elapsed:  3.0min finished\n"
          ],
          "name": "stderr"
        },
        {
          "output_type": "stream",
          "text": [
            "参数的最佳取值：: {'max_depth': 4, 'min_child_weight': 4}\n",
            "最佳模型得分: 0.9205045839365488\n"
          ],
          "name": "stdout"
        }
      ]
    },
    {
      "cell_type": "markdown",
      "metadata": {
        "id": "6CsnDhB0txbA"
      },
      "source": [
        "gamma"
      ]
    },
    {
      "cell_type": "code",
      "metadata": {
        "colab": {
          "base_uri": "https://localhost:8080/"
        },
        "id": "zB7Q28K3bCQD",
        "outputId": "1e1c003d-9209-4a17-e19e-394389037e8b"
      },
      "source": [
        "cv_params = {'gamma':[ 0.1, 0.2, 0.3, 0.4, 0.5, 0.6]}\n",
        "regress_model = XGBRegressor(n_estimators = 230, max_depth = 4, min_child_weight =6 , objective='reg:squarederror') \n",
        "gs = GridSearchCV(regress_model, cv_params, verbose=2, refit=True, cv=5, n_jobs=-1, scoring = 'neg_mean_squared_error')\n",
        "gs.fit(X_train, Y_train)  # X为训练数据的特征值，y为训练数据的label\n",
        "# 性能测评\n",
        "print(\"参数的最佳取值：:\", gs.best_params_)\n",
        "print(\"最佳模型得分:\", gs.best_score_)"
      ],
      "execution_count": 299,
      "outputs": [
        {
          "output_type": "stream",
          "text": [
            "Fitting 5 folds for each of 6 candidates, totalling 30 fits\n"
          ],
          "name": "stdout"
        },
        {
          "output_type": "stream",
          "text": [
            "[Parallel(n_jobs=-1)]: Using backend LokyBackend with 2 concurrent workers.\n",
            "[Parallel(n_jobs=-1)]: Done  30 out of  30 | elapsed:   38.0s finished\n"
          ],
          "name": "stderr"
        },
        {
          "output_type": "stream",
          "text": [
            "参数的最佳取值：: {'gamma': 0.2}\n",
            "最佳模型得分: -15.33099391639069\n"
          ],
          "name": "stdout"
        }
      ]
    },
    {
      "cell_type": "code",
      "metadata": {
        "colab": {
          "base_uri": "https://localhost:8080/"
        },
        "id": "yZSn3ewQ5ByG",
        "outputId": "a1d0a62f-4a15-4d9c-bea1-ed72d1c9fc72"
      },
      "source": [
        "cv_params = {'gamma':[ 0.1, 0.2, 0.3, 0.4, 0.5, 0.6]}\n",
        "regress_model = XGBRegressor(n_estimators = 230, max_depth = 7, min_child_weight =6 , objective='reg:squarederror') \n",
        "gs = GridSearchCV(regress_model, cv_params, verbose=2, refit=True, cv=5, n_jobs=-1, scoring = 'neg_mean_squared_error')\n",
        "gs.fit(x_trainR, y_trainR)  # X为训练数据的特征值，y为训练数据的label\n",
        "# 性能测评\n",
        "print(\"参数的最佳取值：:\", gs.best_params_)\n",
        "print(\"最佳模型得分:\", gs.best_score_)"
      ],
      "execution_count": 300,
      "outputs": [
        {
          "output_type": "stream",
          "text": [
            "Fitting 5 folds for each of 6 candidates, totalling 30 fits\n"
          ],
          "name": "stdout"
        },
        {
          "output_type": "stream",
          "text": [
            "[Parallel(n_jobs=-1)]: Using backend LokyBackend with 2 concurrent workers.\n",
            "[Parallel(n_jobs=-1)]: Done  30 out of  30 | elapsed:   49.8s finished\n"
          ],
          "name": "stderr"
        },
        {
          "output_type": "stream",
          "text": [
            "参数的最佳取值：: {'gamma': 0.6}\n",
            "最佳模型得分: -11.862059492579357\n"
          ],
          "name": "stdout"
        }
      ]
    },
    {
      "cell_type": "code",
      "metadata": {
        "colab": {
          "base_uri": "https://localhost:8080/"
        },
        "id": "zZE-av_X5CXc",
        "outputId": "58423a55-9bba-462f-f99f-ce5fb9b1c398"
      },
      "source": [
        "cv_params = {'gamma':[ 0.1, 0.2, 0.3, 0.4, 0.5, 0.6]}\n",
        "regress_model = XGBRegressor(n_estimators = 250, max_depth = 4, min_child_weight =4 , objective='reg:squarederror') \n",
        "gs = GridSearchCV(regress_model, cv_params, verbose=2, refit=True, cv=5, n_jobs=-1, scoring = 'neg_mean_squared_error')\n",
        "gs.fit(x_trainY, y_trainY)  # X为训练数据的特征值，y为训练数据的label\n",
        "# 性能测评\n",
        "print(\"参数的最佳取值：:\", gs.best_params_)\n",
        "print(\"最佳模型得分:\", gs.best_score_)"
      ],
      "execution_count": 301,
      "outputs": [
        {
          "output_type": "stream",
          "text": [
            "Fitting 5 folds for each of 6 candidates, totalling 30 fits\n"
          ],
          "name": "stdout"
        },
        {
          "output_type": "stream",
          "text": [
            "[Parallel(n_jobs=-1)]: Using backend LokyBackend with 2 concurrent workers.\n",
            "[Parallel(n_jobs=-1)]: Done  30 out of  30 | elapsed:   25.0s finished\n"
          ],
          "name": "stderr"
        },
        {
          "output_type": "stream",
          "text": [
            "参数的最佳取值：: {'gamma': 0.1}\n",
            "最佳模型得分: -14.782849381660423\n"
          ],
          "name": "stdout"
        }
      ]
    },
    {
      "cell_type": "markdown",
      "metadata": {
        "id": "MtYbz22Etyle"
      },
      "source": [
        "subsample  colsample_bytree"
      ]
    },
    {
      "cell_type": "code",
      "metadata": {
        "colab": {
          "base_uri": "https://localhost:8080/"
        },
        "id": "ftlaiYzzbCp_",
        "outputId": "8c180222-3a3d-4f6e-cc4c-fb506681fd56"
      },
      "source": [
        "# cv_params = {'subsample':[ 0.55,0.58, 0.6, 0.62], 'colsample_bytree': [0.68, 0.7, 0.73,]}\n",
        "# regress_model = XGBRegressor(n_estimators = 230, max_depth = 4, min_child_weight =6, gamma = 0.2, objective='reg:squarederror') \n",
        "# gs = GridSearchCV(regress_model, cv_params, verbose=2, refit=True, cv=5, n_jobs=-1, scoring = 'neg_mean_squared_error')\n",
        "# gs.fit(X_train, Y_train)  # X为训练数据的特征值，y为训练数据的label\n",
        "# # 性能测评\n",
        "# print(\"参数的最佳取值：:\", gs.best_params_)\n",
        "# print(\"最佳模型得分:\", gs.best_score_)"
      ],
      "execution_count": 303,
      "outputs": [
        {
          "output_type": "stream",
          "text": [
            "Fitting 5 folds for each of 12 candidates, totalling 60 fits\n"
          ],
          "name": "stdout"
        },
        {
          "output_type": "stream",
          "text": [
            "[Parallel(n_jobs=-1)]: Using backend LokyBackend with 2 concurrent workers.\n",
            "[Parallel(n_jobs=-1)]: Done  37 tasks      | elapsed:   49.4s\n",
            "[Parallel(n_jobs=-1)]: Done  60 out of  60 | elapsed:  1.3min finished\n"
          ],
          "name": "stderr"
        },
        {
          "output_type": "stream",
          "text": [
            "参数的最佳取值：: {'colsample_bytree': 0.68, 'subsample': 0.6}\n",
            "最佳模型得分: -15.584847817034262\n"
          ],
          "name": "stdout"
        }
      ]
    },
    {
      "cell_type": "code",
      "metadata": {
        "colab": {
          "base_uri": "https://localhost:8080/"
        },
        "id": "ZxWvBFER5KQz",
        "outputId": "149de3a8-2618-4d33-ee2a-a790545bd783"
      },
      "source": [
        "# cv_params = {'subsample':[ 0.55,0.58, 0.6, 0.62], 'colsample_bytree': [0.68, 0.7, 0.73,]}\n",
        "# regress_model = XGBRegressor(n_estimators = 230, max_depth = 7, min_child_weight =6 , gamma = 0.6, objective='reg:squarederror') \n",
        "# gs = GridSearchCV(regress_model, cv_params, verbose=2, refit=True, cv=5, n_jobs=-1, scoring = 'neg_mean_squared_error')\n",
        "# gs.fit(x_trainR, y_trainR)  # X为训练数据的特征值，y为训练数据的label\n",
        "# # 性能测评\n",
        "# print(\"参数的最佳取值：:\", gs.best_params_)\n",
        "# print(\"最佳模型得分:\", gs.best_score_)"
      ],
      "execution_count": 305,
      "outputs": [
        {
          "output_type": "stream",
          "text": [
            "Fitting 5 folds for each of 12 candidates, totalling 60 fits\n"
          ],
          "name": "stdout"
        },
        {
          "output_type": "stream",
          "text": [
            "[Parallel(n_jobs=-1)]: Using backend LokyBackend with 2 concurrent workers.\n",
            "[Parallel(n_jobs=-1)]: Done  37 tasks      | elapsed:  1.0min\n",
            "[Parallel(n_jobs=-1)]: Done  60 out of  60 | elapsed:  1.6min finished\n"
          ],
          "name": "stderr"
        },
        {
          "output_type": "stream",
          "text": [
            "参数的最佳取值：: {'colsample_bytree': 0.68, 'subsample': 0.6}\n",
            "最佳模型得分: -12.235847412182666\n"
          ],
          "name": "stdout"
        }
      ]
    },
    {
      "cell_type": "code",
      "metadata": {
        "colab": {
          "base_uri": "https://localhost:8080/"
        },
        "id": "RM3HSMEj5Kxp",
        "outputId": "5c5ce117-732d-4966-c7f8-e13be09bc799"
      },
      "source": [
        "# cv_params = {'subsample':[ 0.55,0.58, 0.6, 0.62], 'colsample_bytree': [0.68, 0.7, 0.73,]}\n",
        "# regress_model = XGBRegressor(n_estimators = 250, max_depth = 4, min_child_weight =4, gamma = 0.1, objective='reg:squarederror') \n",
        "# gs = GridSearchCV(regress_model, cv_params, verbose=2, refit=True, cv=5, n_jobs=-1, scoring = 'neg_mean_squared_error')\n",
        "# gs.fit(x_trainY, y_trainY)  # X为训练数据的特征值，y为训练数据的label\n",
        "# # 性能测评\n",
        "# print(\"参数的最佳取值：:\", gs.best_params_)\n",
        "# print(\"最佳模型得分:\", gs.best_score_)"
      ],
      "execution_count": 306,
      "outputs": [
        {
          "output_type": "stream",
          "text": [
            "Fitting 5 folds for each of 12 candidates, totalling 60 fits\n"
          ],
          "name": "stdout"
        },
        {
          "output_type": "stream",
          "text": [
            "[Parallel(n_jobs=-1)]: Using backend LokyBackend with 2 concurrent workers.\n",
            "[Parallel(n_jobs=-1)]: Done  37 tasks      | elapsed:   33.5s\n",
            "[Parallel(n_jobs=-1)]: Done  60 out of  60 | elapsed:   52.8s finished\n"
          ],
          "name": "stderr"
        },
        {
          "output_type": "stream",
          "text": [
            "参数的最佳取值：: {'colsample_bytree': 0.68, 'subsample': 0.6}\n",
            "最佳模型得分: -14.832670090123788\n"
          ],
          "name": "stdout"
        }
      ]
    },
    {
      "cell_type": "markdown",
      "metadata": {
        "id": "MyCnwhUQtz-z"
      },
      "source": [
        "reg_alpha  reg_lambda"
      ]
    },
    {
      "cell_type": "code",
      "metadata": {
        "colab": {
          "base_uri": "https://localhost:8080/"
        },
        "id": "o7nfHo00byQa",
        "outputId": "0da703b6-ebba-4b40-cbc6-e080f099625f"
      },
      "source": [
        "cv_params = {'reg_alpha':[ 0.5, 1, 1.5], 'reg_lambda':[2.5, 3 ,3.5,4]}\n",
        "regress_model = XGBRegressor(n_estimators = 230, max_depth = 4, min_child_weight =6, gamma = 0.2, objective='reg:squarederror') \n",
        "gs = GridSearchCV(regress_model, cv_params, verbose=2, refit=True, cv=5, n_jobs=-1,scoring = 'neg_mean_squared_error')\n",
        "gs.fit(X_train, Y_train)  # X为训练数据的特征值，y为训练数据的label\n",
        "# 性能测评\n",
        "print(\"参数的最佳取值：:\", gs.best_params_)\n",
        "print(\"最佳模型得分:\", gs.best_score_)"
      ],
      "execution_count": 323,
      "outputs": [
        {
          "output_type": "stream",
          "text": [
            "Fitting 5 folds for each of 12 candidates, totalling 60 fits\n"
          ],
          "name": "stdout"
        },
        {
          "output_type": "stream",
          "text": [
            "[Parallel(n_jobs=-1)]: Using backend LokyBackend with 2 concurrent workers.\n",
            "[Parallel(n_jobs=-1)]: Done  37 tasks      | elapsed:   46.7s\n",
            "[Parallel(n_jobs=-1)]: Done  60 out of  60 | elapsed:  1.2min finished\n"
          ],
          "name": "stderr"
        },
        {
          "output_type": "stream",
          "text": [
            "参数的最佳取值：: {'reg_alpha': 1, 'reg_lambda': 3.5}\n",
            "最佳模型得分: -15.435564887398872\n"
          ],
          "name": "stdout"
        }
      ]
    },
    {
      "cell_type": "code",
      "metadata": {
        "colab": {
          "base_uri": "https://localhost:8080/"
        },
        "id": "SI1FeyH85PIH",
        "outputId": "3cf1b544-2f8a-44c6-ba42-e7d9ba6a1040"
      },
      "source": [
        "cv_params = {'reg_alpha':[ 0.5, 1, 1.5], 'reg_lambda':[2.5, 3 ,3.5,4]}\n",
        "regress_model = XGBRegressor(n_estimators = 230, max_depth = 7, min_child_weight =6 , gamma = 0.6, objective='reg:squarederror') \n",
        "gs = GridSearchCV(regress_model, cv_params, verbose=2, refit=True, cv=5, n_jobs=-1,scoring = 'neg_mean_squared_error')\n",
        "gs.fit(x_trainR, y_trainR)  # X为训练数据的特征值，y为训练数据的label\n",
        "# 性能测评\n",
        "print(\"参数的最佳取值：:\", gs.best_params_)\n",
        "print(\"最佳模型得分:\", gs.best_score_)"
      ],
      "execution_count": 324,
      "outputs": [
        {
          "output_type": "stream",
          "text": [
            "Fitting 5 folds for each of 12 candidates, totalling 60 fits\n"
          ],
          "name": "stdout"
        },
        {
          "output_type": "stream",
          "text": [
            "[Parallel(n_jobs=-1)]: Using backend LokyBackend with 2 concurrent workers.\n",
            "[Parallel(n_jobs=-1)]: Done  37 tasks      | elapsed:  1.0min\n",
            "[Parallel(n_jobs=-1)]: Done  60 out of  60 | elapsed:  1.6min finished\n"
          ],
          "name": "stderr"
        },
        {
          "output_type": "stream",
          "text": [
            "参数的最佳取值：: {'reg_alpha': 1.5, 'reg_lambda': 3.5}\n",
            "最佳模型得分: -11.744358200083493\n"
          ],
          "name": "stdout"
        }
      ]
    },
    {
      "cell_type": "code",
      "metadata": {
        "colab": {
          "base_uri": "https://localhost:8080/"
        },
        "id": "pJqub0p95PQg",
        "outputId": "98fb5523-a7d5-4041-ecc5-05683d313002"
      },
      "source": [
        "cv_params = {'reg_alpha':[ 0.5, 1, 1.5], 'reg_lambda':[2.5, 3 ,3.5,4]}\n",
        "regress_model = XGBRegressor(n_estimators = 250, max_depth = 4, min_child_weight =4, gamma = 0.1, objective='reg:squarederror') \n",
        "gs = GridSearchCV(regress_model, cv_params, verbose=2, refit=True, cv=5, n_jobs=-1,scoring = 'neg_mean_squared_error')\n",
        "gs.fit(x_trainY, y_trainY)  # X为训练数据的特征值，y为训练数据的label\n",
        "# 性能测评\n",
        "print(\"参数的最佳取值：:\", gs.best_params_)\n",
        "print(\"最佳模型得分:\", gs.best_score_)"
      ],
      "execution_count": 322,
      "outputs": [
        {
          "output_type": "stream",
          "text": [
            "Fitting 5 folds for each of 12 candidates, totalling 60 fits\n"
          ],
          "name": "stdout"
        },
        {
          "output_type": "stream",
          "text": [
            "[Parallel(n_jobs=-1)]: Using backend LokyBackend with 2 concurrent workers.\n",
            "[Parallel(n_jobs=-1)]: Done  37 tasks      | elapsed:   33.1s\n",
            "[Parallel(n_jobs=-1)]: Done  60 out of  60 | elapsed:   51.7s finished\n"
          ],
          "name": "stderr"
        },
        {
          "output_type": "stream",
          "text": [
            "参数的最佳取值：: {'reg_alpha': 1.5, 'reg_lambda': 3}\n",
            "最佳模型得分: -14.787880741109657\n"
          ],
          "name": "stdout"
        }
      ]
    },
    {
      "cell_type": "markdown",
      "metadata": {
        "id": "HVmP8ydTt3zE"
      },
      "source": [
        "#Evaluation"
      ]
    },
    {
      "cell_type": "markdown",
      "metadata": {
        "id": "GceKIXNXzSkW"
      },
      "source": [
        "cross_val"
      ]
    },
    {
      "cell_type": "code",
      "metadata": {
        "colab": {
          "base_uri": "https://localhost:8080/"
        },
        "id": "ZpHTPDrqzSkW",
        "outputId": "fea09196-4c95-4f79-b1da-66683360a781"
      },
      "source": [
        "m2 = XGBRegressor(n_estimators = 230, max_depth = 4, min_child_weight =6, gamma = 0.2,criterion='mse', objective='reg:squarederror')\n",
        "m2.fit(X_train, Y_train)\n",
        "cv2 = cross_val_score(m2,X_train,Y_train,cv=tscv,scoring=\"neg_mean_squared_error\")\n",
        "mse2 = cv2.mean() * (-1)\n",
        "mse2"
      ],
      "execution_count": 331,
      "outputs": [
        {
          "output_type": "execute_result",
          "data": {
            "text/plain": [
              "16.632510816958735"
            ]
          },
          "metadata": {
            "tags": []
          },
          "execution_count": 331
        }
      ]
    },
    {
      "cell_type": "markdown",
      "metadata": {
        "id": "742a-C5Qej-Z"
      },
      "source": [
        "**This one got the best score on kaggle (11.70998)** \n"
      ]
    },
    {
      "cell_type": "code",
      "metadata": {
        "id": "zTrpPBAxzSkY"
      },
      "source": [
        "prediction2 = m2.predict(X_test)\n",
        "r2 = pd.DataFrame(prediction2)\n",
        "df_sample['speed'] = r2[0]\n",
        "df_sample\n",
        "# df_sample.to_csv('2.csv', index=None)\n",
        "#the best result on leaderboard"
      ],
      "execution_count": 333,
      "outputs": []
    },
    {
      "cell_type": "markdown",
      "metadata": {
        "id": "87A3PykszSkY"
      },
      "source": [
        "Randomly"
      ]
    },
    {
      "cell_type": "code",
      "metadata": {
        "colab": {
          "base_uri": "https://localhost:8080/"
        },
        "id": "Ky-c6EOAzSkY",
        "outputId": "1f757e9d-fe4f-4ae3-c065-16e961834eaa"
      },
      "source": [
        "m2R = XGBRegressor(n_estimators = 230, max_depth = 7, min_child_weight =6 , gamma = 0.6,criterion='mse', objective='reg:squarederror')\n",
        "m2R.fit(x_trainR, y_trainR)\n",
        "y_pred2R = m2R.predict(x_valR)\n",
        "mse2R = mean_squared_error(y_valR, y_pred2R, sample_weight=None, multioutput='uniform_average')\n",
        "mse2R"
      ],
      "execution_count": 325,
      "outputs": [
        {
          "output_type": "execute_result",
          "data": {
            "text/plain": [
              "11.025053628127631"
            ]
          },
          "metadata": {
            "tags": []
          },
          "execution_count": 325
        }
      ]
    },
    {
      "cell_type": "code",
      "metadata": {
        "id": "WiMq8rpmzSkY"
      },
      "source": [
        "prediction2R = m2R.predict(X_test)\n",
        "r2R = pd.DataFrame(prediction2R)\n",
        "df_sample['speed'] = r2R[0]\n",
        "df_sample\n",
        "# df_sample.to_csv('2R.csv', index=None)"
      ],
      "execution_count": 334,
      "outputs": []
    },
    {
      "cell_type": "markdown",
      "metadata": {
        "id": "myZdYfiEzSkY"
      },
      "source": [
        "based on year"
      ]
    },
    {
      "cell_type": "code",
      "metadata": {
        "colab": {
          "base_uri": "https://localhost:8080/"
        },
        "id": "Pgcc3WJGzSkY",
        "outputId": "3c3f369c-4c0f-465d-f58e-5739bcaf243b"
      },
      "source": [
        "m2Y = XGBRegressor(n_estimators = 250, max_depth = 4, min_child_weight =4, gamma = 0.1,criterion='mse',objective='reg:squarederror')\n",
        "m2Y.fit(x_trainY, y_trainY)\n",
        "y_pred2Y = m2R.predict(x_valY)\n",
        "mse2Y = mean_squared_error(y_valY, y_pred2Y, sample_weight=None, multioutput='uniform_average')\n",
        "mse2Y"
      ],
      "execution_count": 330,
      "outputs": [
        {
          "output_type": "execute_result",
          "data": {
            "text/plain": [
              "7.658880469290222"
            ]
          },
          "metadata": {
            "tags": []
          },
          "execution_count": 330
        }
      ]
    },
    {
      "cell_type": "code",
      "metadata": {
        "id": "671QnwP1zSkY"
      },
      "source": [
        "prediction2Y = m2Y.predict(X_test)\n",
        "r2Y = pd.DataFrame(prediction2Y)\n",
        "df_sample['speed'] = r2Y[0]\n",
        "df_sample\n",
        "# df_sample.to_csv('2Y.csv', index=None)"
      ],
      "execution_count": 332,
      "outputs": []
    },
    {
      "cell_type": "code",
      "metadata": {
        "id": "sAavPPdmUflJ"
      },
      "source": [
        ""
      ],
      "execution_count": null,
      "outputs": []
    }
  ]
}